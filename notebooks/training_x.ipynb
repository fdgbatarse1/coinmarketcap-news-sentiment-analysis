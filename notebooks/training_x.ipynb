{
 "cells": [
  {
   "cell_type": "markdown",
   "id": "792e92b6",
   "metadata": {},
   "source": [
    "# Bitcoin Sentiment Analysis with FinBERT\n",
    "\n",
    "This notebook implements sentiment analysis on Bitcoin-related text using the FinBERT model.\n",
    "We fine-tune the pre-trained FinBERT model on a Bitcoin sentiment dataset and evaluate\n",
    "its performance using balanced accuracy and accuracy metrics."
   ]
  },
  {
   "cell_type": "markdown",
   "id": "5dc9111d",
   "metadata": {},
   "source": [
    "Import libraries for sentiment analysis using FinBERT with PyTorch, HuggingFace transformers, and evaluation metrics"
   ]
  },
  {
   "cell_type": "code",
   "id": "51b982b5",
   "metadata": {
    "ExecuteTime": {
     "end_time": "2025-07-18T01:57:24.329437Z",
     "start_time": "2025-07-18T01:57:18.812080Z"
    }
   },
   "source": [
    "from loguru import logger\n",
    "import torch\n",
    "import numpy as np\n",
    "import pandas as pd\n",
    "from datasets import load_dataset\n",
    "from transformers import (\n",
    "    pipeline,\n",
    "    AutoTokenizer,\n",
    "    Trainer,\n",
    "    TrainingArguments,\n",
    "    AutoModelForSequenceClassification,\n",
    ")\n",
    "from sklearn.metrics import balanced_accuracy_score, accuracy_score"
   ],
   "outputs": [
    {
     "name": "stderr",
     "output_type": "stream",
     "text": [
      "C:\\Users\\paypa\\OneDrive\\Desktop\\Project\\coinmarketcap-news-sentiment-analysis\\.venv\\Lib\\site-packages\\tqdm\\auto.py:21: TqdmWarning: IProgress not found. Please update jupyter and ipywidgets. See https://ipywidgets.readthedocs.io/en/stable/user_install.html\n",
      "  from .autonotebook import tqdm as notebook_tqdm\n"
     ]
    }
   ],
   "execution_count": 1
  },
  {
   "cell_type": "markdown",
   "id": "5b51eb7f",
   "metadata": {},
   "source": [
    "Set the pre-trained FinBERT model for financial sentiment analysis"
   ]
  },
  {
   "cell_type": "code",
   "id": "77b9a8ae",
   "metadata": {
    "ExecuteTime": {
     "end_time": "2025-07-18T01:57:24.340444Z",
     "start_time": "2025-07-18T01:57:24.337545Z"
    }
   },
   "source": [
    "model_name = \"yiyanghkust/finbert-tone\""
   ],
   "outputs": [],
   "execution_count": 2
  },
  {
   "cell_type": "markdown",
   "id": "e7dd6b2d",
   "metadata": {},
   "source": [
    "Check CUDA availability and set device for GPU acceleration or fallback to CPU"
   ]
  },
  {
   "cell_type": "code",
   "id": "4ea2ef60",
   "metadata": {
    "ExecuteTime": {
     "end_time": "2025-07-18T01:57:24.373912Z",
     "start_time": "2025-07-18T01:57:24.347450Z"
    }
   },
   "source": [
    "if torch.cuda.is_available():\n",
    "    logger.info(\"CUDA available. GPU will be used for computation.\")\n",
    "    device = 0\n",
    "else:\n",
    "    logger.info(\"CUDA not available. Using CPU for computation.\")\n",
    "    device = -1"
   ],
   "outputs": [
    {
     "name": "stderr",
     "output_type": "stream",
     "text": [
      "\u001B[32m2025-07-18 08:57:24.371\u001B[0m | \u001B[1mINFO    \u001B[0m | \u001B[36m__main__\u001B[0m:\u001B[36m<module>\u001B[0m:\u001B[36m2\u001B[0m - \u001B[1mCUDA available. GPU will be used for computation.\u001B[0m\n"
     ]
    }
   ],
   "execution_count": 3
  },
  {
   "cell_type": "markdown",
   "id": "220d1a39",
   "metadata": {},
   "source": [
    "Initialize sentiment analysis pipeline with FinBERT model and test with sample text"
   ]
  },
  {
   "cell_type": "code",
   "id": "01f4600d",
   "metadata": {
    "ExecuteTime": {
     "end_time": "2025-07-18T01:57:28.388381Z",
     "start_time": "2025-07-18T01:57:24.870555Z"
    }
   },
   "source": [
    "sentiment_pipeline = pipeline(\n",
    "    task=\"sentiment-analysis\", model=model_name, batch_size=128, device=device\n",
    ")\n",
    "\n",
    "result = sentiment_pipeline(\"I love you\")\n",
    "\n",
    "logger.info(result)"
   ],
   "outputs": [
    {
     "name": "stderr",
     "output_type": "stream",
     "text": [
      "Device set to use cuda:0\n",
      "\u001B[32m2025-07-18 08:57:28.386\u001B[0m | \u001B[1mINFO    \u001B[0m | \u001B[36m__main__\u001B[0m:\u001B[36m<module>\u001B[0m:\u001B[36m7\u001B[0m - \u001B[1m[{'label': 'Positive', 'score': 0.9885214567184448}]\u001B[0m\n"
     ]
    }
   ],
   "execution_count": 4
  },
  {
   "cell_type": "markdown",
   "id": "dd184615",
   "metadata": {},
   "source": [
    "Load Bitcoin sentiment dataset, split into train/val/test sets, preprocess text data, and prepare for model training"
   ]
  },
  {
   "cell_type": "code",
   "id": "7d697ac7",
   "metadata": {
    "ExecuteTime": {
     "end_time": "2025-07-18T01:57:34.681132Z",
     "start_time": "2025-07-18T01:57:28.396896Z"
    }
   },
   "source": [
    "ds = load_dataset(\"juanka0357/bitcoin-sentiment-analysis\")\n",
    "\n",
    "full_dataset = ds[\"train\"]\n",
    "\n",
    "total_samples = len(full_dataset)\n",
    "train_size = int(0.6 * total_samples)\n",
    "val_size = int(0.2 * total_samples)\n",
    "test_size = total_samples - train_size - val_size\n",
    "\n",
    "ds_train = full_dataset.select(range(train_size))\n",
    "ds_val = full_dataset.select(range(train_size, train_size + val_size))\n",
    "ds_test = full_dataset.select(\n",
    "    range(train_size + val_size, train_size + val_size + test_size)\n",
    ")\n",
    "\n",
    "tokenizer = AutoTokenizer.from_pretrained(model_name)\n",
    "\n",
    "ds_train = ds_train.rename_column(\"output\", \"labels\")\n",
    "ds_val = ds_val.rename_column(\"output\", \"labels\")\n",
    "ds_test = ds_test.rename_column(\"output\", \"labels\")\n",
    "\n",
    "ds_train = ds_train.rename_column(\"input\", \"text\")\n",
    "ds_val = ds_val.rename_column(\"input\", \"text\")\n",
    "ds_test = ds_test.rename_column(\"input\", \"text\")\n",
    "\n",
    "all_labels = set()\n",
    "for split in [ds_train, ds_val, ds_test]:\n",
    "    for example in split:\n",
    "        all_labels.add(example[\"labels\"])\n",
    "\n",
    "label_to_id = {label: idx for idx, label in enumerate(sorted(all_labels))}\n",
    "id_to_label = {idx: label for label, idx in label_to_id.items()}\n",
    "\n",
    "def convert_labels_to_ids(examples):\n",
    "    examples[\"labels\"] = [label_to_id[label] for label in examples[\"labels\"]]\n",
    "    return examples\n",
    "\n",
    "ds_train = ds_train.map(convert_labels_to_ids, batched=True)\n",
    "ds_val = ds_val.map(convert_labels_to_ids, batched=True)\n",
    "ds_test = ds_test.map(convert_labels_to_ids, batched=True)\n",
    "\n",
    "def tokenize_function(examples):\n",
    "    tokenized = tokenizer(\n",
    "        examples[\"text\"], truncation=True, padding=\"max_length\", max_length=128\n",
    "    )\n",
    "    return tokenized\n",
    "\n",
    "ds_train = ds_train.map(tokenize_function, batched=True)\n",
    "ds_val = ds_val.map(tokenize_function, batched=True)\n",
    "ds_test = ds_test.map(tokenize_function, batched=True)\n",
    "\n",
    "ds_train.set_format(\n",
    "    type=\"torch\",\n",
    "    columns=[\"input_ids\", \"token_type_ids\", \"attention_mask\", \"labels\"],\n",
    ")\n",
    "ds_val.set_format(\n",
    "    type=\"torch\",\n",
    "    columns=[\"input_ids\", \"token_type_ids\", \"attention_mask\", \"labels\"],\n",
    ")\n",
    "ds_test.set_format(\n",
    "    type=\"torch\",\n",
    "    columns=[\"input_ids\", \"token_type_ids\", \"attention_mask\", \"labels\"],\n",
    ")\n",
    "\n",
    "logger.info(f\"ds_train: {ds_train[0]}\")\n",
    "\n",
    "ds_train_shuffle = ds_train.shuffle(seed=42)"
   ],
   "outputs": [
    {
     "name": "stderr",
     "output_type": "stream",
     "text": [
      "Map: 100%|██████████| 380/380 [00:00<00:00, 8626.00 examples/s]\n",
      "\u001B[32m2025-07-18 08:57:34.659\u001B[0m | \u001B[1mINFO    \u001B[0m | \u001B[36m__main__\u001B[0m:\u001B[36m<module>\u001B[0m:\u001B[36m65\u001B[0m - \u001B[1mds_train: {'labels': tensor(2), 'input_ids': tensor([    3, 17039,  4154,   487,  4121,   641,  6615,   574,  1898,  1419,\n",
      "           35,   445,  5674,   599,  2464,     9,  3209,    19,  4269,    48,\n",
      "            4,     0,     0,     0,     0,     0,     0,     0,     0,     0,\n",
      "            0,     0,     0,     0,     0,     0,     0,     0,     0,     0,\n",
      "            0,     0,     0,     0,     0,     0,     0,     0,     0,     0,\n",
      "            0,     0,     0,     0,     0,     0,     0,     0,     0,     0,\n",
      "            0,     0,     0,     0,     0,     0,     0,     0,     0,     0,\n",
      "            0,     0,     0,     0,     0,     0,     0,     0,     0,     0,\n",
      "            0,     0,     0,     0,     0,     0,     0,     0,     0,     0,\n",
      "            0,     0,     0,     0,     0,     0,     0,     0,     0,     0,\n",
      "            0,     0,     0,     0,     0,     0,     0,     0,     0,     0,\n",
      "            0,     0,     0,     0,     0,     0,     0,     0,     0,     0,\n",
      "            0,     0,     0,     0,     0,     0,     0,     0]), 'token_type_ids': tensor([0, 0, 0, 0, 0, 0, 0, 0, 0, 0, 0, 0, 0, 0, 0, 0, 0, 0, 0, 0, 0, 0, 0, 0,\n",
      "        0, 0, 0, 0, 0, 0, 0, 0, 0, 0, 0, 0, 0, 0, 0, 0, 0, 0, 0, 0, 0, 0, 0, 0,\n",
      "        0, 0, 0, 0, 0, 0, 0, 0, 0, 0, 0, 0, 0, 0, 0, 0, 0, 0, 0, 0, 0, 0, 0, 0,\n",
      "        0, 0, 0, 0, 0, 0, 0, 0, 0, 0, 0, 0, 0, 0, 0, 0, 0, 0, 0, 0, 0, 0, 0, 0,\n",
      "        0, 0, 0, 0, 0, 0, 0, 0, 0, 0, 0, 0, 0, 0, 0, 0, 0, 0, 0, 0, 0, 0, 0, 0,\n",
      "        0, 0, 0, 0, 0, 0, 0, 0]), 'attention_mask': tensor([1, 1, 1, 1, 1, 1, 1, 1, 1, 1, 1, 1, 1, 1, 1, 1, 1, 1, 1, 1, 1, 0, 0, 0,\n",
      "        0, 0, 0, 0, 0, 0, 0, 0, 0, 0, 0, 0, 0, 0, 0, 0, 0, 0, 0, 0, 0, 0, 0, 0,\n",
      "        0, 0, 0, 0, 0, 0, 0, 0, 0, 0, 0, 0, 0, 0, 0, 0, 0, 0, 0, 0, 0, 0, 0, 0,\n",
      "        0, 0, 0, 0, 0, 0, 0, 0, 0, 0, 0, 0, 0, 0, 0, 0, 0, 0, 0, 0, 0, 0, 0, 0,\n",
      "        0, 0, 0, 0, 0, 0, 0, 0, 0, 0, 0, 0, 0, 0, 0, 0, 0, 0, 0, 0, 0, 0, 0, 0,\n",
      "        0, 0, 0, 0, 0, 0, 0, 0])}\u001B[0m\n"
     ]
    }
   ],
   "execution_count": 5
  },
  {
   "cell_type": "markdown",
   "id": "6cbce273",
   "metadata": {},
   "source": [
    "Define evaluation metrics function to compute balanced accuracy and accuracy scores for model predictions"
   ]
  },
  {
   "cell_type": "code",
   "id": "0aec3046",
   "metadata": {
    "ExecuteTime": {
     "end_time": "2025-07-18T01:57:34.696449Z",
     "start_time": "2025-07-18T01:57:34.694104Z"
    }
   },
   "source": [
    "def compute_metrics(eval_pred):\n",
    "    predictions, labels = eval_pred\n",
    "    predictions = np.argmax(predictions, axis=1)\n",
    "    return {\n",
    "        \"balanced_accuracy\": balanced_accuracy_score(predictions, labels),\n",
    "        \"accuracy\": accuracy_score(predictions, labels),\n",
    "    }"
   ],
   "outputs": [],
   "execution_count": 6
  },
  {
   "cell_type": "markdown",
   "id": "02fcbf0c",
   "metadata": {},
   "source": [
    "Configure training arguments with hyperparameters for fine-tuning FinBERT model on sentiment analysis task"
   ]
  },
  {
   "cell_type": "code",
   "id": "48366ad0",
   "metadata": {
    "ExecuteTime": {
     "end_time": "2025-07-18T01:57:34.758022Z",
     "start_time": "2025-07-18T01:57:34.712965Z"
    }
   },
   "source": [
    "args = TrainingArguments(\n",
    "    output_dir=\"temp/\",\n",
    "    eval_strategy=\"epoch\",\n",
    "    save_strategy=\"epoch\",\n",
    "    logging_strategy=\"steps\",\n",
    "    logging_steps=50,\n",
    "    learning_rate=2e-6,\n",
    "    per_device_train_batch_size=32,\n",
    "    per_device_eval_batch_size=32,\n",
    "    num_train_epochs=10,\n",
    "    weight_decay=0.1,\n",
    "    load_best_model_at_end=True,\n",
    "    metric_for_best_model=\"balanced_accuracy\",\n",
    ")"
   ],
   "outputs": [],
   "execution_count": 7
  },
  {
   "cell_type": "markdown",
   "id": "aac34c6e",
   "metadata": {},
   "source": [
    "Load pre-trained FinBERT model and configure it for sequence classification with custom label mappings"
   ]
  },
  {
   "cell_type": "code",
   "id": "57f78774",
   "metadata": {
    "ExecuteTime": {
     "end_time": "2025-07-18T01:57:35.436676Z",
     "start_time": "2025-07-18T01:57:34.776712Z"
    }
   },
   "source": [
    "model = AutoModelForSequenceClassification.from_pretrained(\n",
    "    model_name,\n",
    "    num_labels=len(label_to_id),\n",
    "    id2label=id_to_label,\n",
    "    label2id=label_to_id,\n",
    ")"
   ],
   "outputs": [],
   "execution_count": 8
  },
  {
   "cell_type": "markdown",
   "id": "4281d522",
   "metadata": {},
   "source": [
    "Initialize trainer with model and datasets, then fine-tune FinBERT and generate predictions on test set"
   ]
  },
  {
   "cell_type": "code",
   "id": "5058f8a7",
   "metadata": {
    "ExecuteTime": {
     "end_time": "2025-07-18T02:00:10.109493Z",
     "start_time": "2025-07-18T01:57:35.450846Z"
    }
   },
   "source": [
    "trainer = Trainer(\n",
    "    model=model,\n",
    "    args=args,\n",
    "    train_dataset=ds_train_shuffle,\n",
    "    eval_dataset=ds_val,\n",
    "    compute_metrics=compute_metrics,\n",
    ")\n",
    "\n",
    "trainer.train()\n",
    "\n",
    "predictions = trainer.predict(ds_test)"
   ],
   "outputs": [
    {
     "data": {
      "text/plain": [
       "<IPython.core.display.HTML object>"
      ],
      "text/html": [
       "\n",
       "    <div>\n",
       "      \n",
       "      <progress value='360' max='360' style='width:300px; height:20px; vertical-align: middle;'></progress>\n",
       "      [360/360 02:32, Epoch 10/10]\n",
       "    </div>\n",
       "    <table border=\"1\" class=\"dataframe\">\n",
       "  <thead>\n",
       " <tr style=\"text-align: left;\">\n",
       "      <th>Epoch</th>\n",
       "      <th>Training Loss</th>\n",
       "      <th>Validation Loss</th>\n",
       "      <th>Balanced Accuracy</th>\n",
       "      <th>Accuracy</th>\n",
       "    </tr>\n",
       "  </thead>\n",
       "  <tbody>\n",
       "    <tr>\n",
       "      <td>1</td>\n",
       "      <td>No log</td>\n",
       "      <td>1.786759</td>\n",
       "      <td>0.478679</td>\n",
       "      <td>0.585752</td>\n",
       "    </tr>\n",
       "    <tr>\n",
       "      <td>2</td>\n",
       "      <td>3.621200</td>\n",
       "      <td>0.988350</td>\n",
       "      <td>0.644664</td>\n",
       "      <td>0.659631</td>\n",
       "    </tr>\n",
       "    <tr>\n",
       "      <td>3</td>\n",
       "      <td>1.039000</td>\n",
       "      <td>0.746925</td>\n",
       "      <td>0.690348</td>\n",
       "      <td>0.680739</td>\n",
       "    </tr>\n",
       "    <tr>\n",
       "      <td>4</td>\n",
       "      <td>1.039000</td>\n",
       "      <td>0.673807</td>\n",
       "      <td>0.727764</td>\n",
       "      <td>0.715040</td>\n",
       "    </tr>\n",
       "    <tr>\n",
       "      <td>5</td>\n",
       "      <td>0.793600</td>\n",
       "      <td>0.638455</td>\n",
       "      <td>0.731226</td>\n",
       "      <td>0.715040</td>\n",
       "    </tr>\n",
       "    <tr>\n",
       "      <td>6</td>\n",
       "      <td>0.681100</td>\n",
       "      <td>0.618835</td>\n",
       "      <td>0.748725</td>\n",
       "      <td>0.730871</td>\n",
       "    </tr>\n",
       "    <tr>\n",
       "      <td>7</td>\n",
       "      <td>0.651300</td>\n",
       "      <td>0.601382</td>\n",
       "      <td>0.760321</td>\n",
       "      <td>0.741425</td>\n",
       "    </tr>\n",
       "    <tr>\n",
       "      <td>8</td>\n",
       "      <td>0.651300</td>\n",
       "      <td>0.596378</td>\n",
       "      <td>0.756380</td>\n",
       "      <td>0.736148</td>\n",
       "    </tr>\n",
       "    <tr>\n",
       "      <td>9</td>\n",
       "      <td>0.616500</td>\n",
       "      <td>0.593691</td>\n",
       "      <td>0.760860</td>\n",
       "      <td>0.741425</td>\n",
       "    </tr>\n",
       "    <tr>\n",
       "      <td>10</td>\n",
       "      <td>0.610000</td>\n",
       "      <td>0.591990</td>\n",
       "      <td>0.760860</td>\n",
       "      <td>0.741425</td>\n",
       "    </tr>\n",
       "  </tbody>\n",
       "</table><p>"
      ]
     },
     "metadata": {},
     "output_type": "display_data"
    },
    {
     "data": {
      "text/plain": [
       "<IPython.core.display.HTML object>"
      ],
      "text/html": []
     },
     "metadata": {},
     "output_type": "display_data"
    }
   ],
   "execution_count": 9
  },
  {
   "cell_type": "markdown",
   "id": "dd25bb69",
   "metadata": {},
   "source": [
    "Log model predictions and ground truth labels for analysis and debugging purposes"
   ]
  },
  {
   "cell_type": "code",
   "id": "d573898b",
   "metadata": {
    "ExecuteTime": {
     "end_time": "2025-07-18T02:00:10.164854Z",
     "start_time": "2025-07-18T02:00:10.159857Z"
    }
   },
   "source": [
    "logger.info(f\"Raw logits/predictions from the model: {predictions[0]}\")\n",
    "logger.info(f\"Labels from the dataset: {predictions[1]}\")"
   ],
   "outputs": [
    {
     "name": "stderr",
     "output_type": "stream",
     "text": [
      "\u001B[32m2025-07-18 09:00:10.160\u001B[0m | \u001B[1mINFO    \u001B[0m | \u001B[36m__main__\u001B[0m:\u001B[36m<module>\u001B[0m:\u001B[36m1\u001B[0m - \u001B[1mRaw logits/predictions from the model: [[-1.2058978   0.328848   -1.6142046 ]\n",
      " [-0.68361545  1.3383417   0.27264616]\n",
      " [-0.93864864  1.9911461   0.1703254 ]\n",
      " ...\n",
      " [-1.8726767  -1.1190951   4.6669765 ]\n",
      " [-1.8726767  -1.1190951   4.6669765 ]\n",
      " [-1.8726767  -1.1190951   4.6669765 ]]\u001B[0m\n",
      "\u001B[32m2025-07-18 09:00:10.161\u001B[0m | \u001B[1mINFO    \u001B[0m | \u001B[36m__main__\u001B[0m:\u001B[36m<module>\u001B[0m:\u001B[36m2\u001B[0m - \u001B[1mLabels from the dataset: [1 1 0 2 1 0 2 1 2 1 2 0 0 1 1 2 1 2 1 1 1 1 2 1 2 1 1 2 1 2 1 2 2 2 1 2 2\n",
      " 2 1 2 1 2 2 2 1 2 2 2 0 2 1 2 2 2 1 1 2 0 0 0 0 0 1 2 1 1 1 2 1 2 1 1 2 0\n",
      " 2 2 2 0 0 2 2 0 2 2 1 0 1 1 2 2 2 1 0 1 2 1 1 2 2 1 2 2 2 2 1 1 2 2 0 2 2\n",
      " 0 1 2 1 1 1 0 2 2 2 1 2 2 1 1 2 1 2 2 2 2 0 1 2 2 2 1 2 0 2 2 0 2 0 2 2 2\n",
      " 2 2 2 2 2 2 2 2 1 2 2 2 2 1 2 1 1 1 2 1 1 1 1 1 0 1 1 1 2 1 1 1 1 0 0 0 0\n",
      " 1 0 1 2 1 2 1 2 2 1 2 1 1 1 2 2 1 1 1 1 1 1 1 2 2 2 2 1 1 2 2 1 1 1 2 2 1\n",
      " 1 1 1 0 1 1 2 1 2 2 2 2 2 1 2 1 1 1 2 1 2 1 2 1 1 2 2 1 1 2 2 2 1 2 2 2 2\n",
      " 2 2 2 2 2 2 2 2 2 1 2 0 2 1 2 2 2 2 2 2 1 2 1 1 2 0 1 1 1 1 2 1 2 1 2 1 1\n",
      " 2 1 1 2 2 0 0 0 0 0 1 2 1 1 1 2 2 2 2 2 1 2 1 2 2 2 1 2 2 0 2 1 1 1 2 2 1\n",
      " 1 1 2 2 1 2 1 2 2 2 2 1 2 1 2 2 2 2 2 0 1 1 2 2 1 1 2 2 1 0 1 0 2 2 1 2 1\n",
      " 1 1 2 2 2 2 1 2 2 2]\u001B[0m\n"
     ]
    }
   ],
   "execution_count": 10
  },
  {
   "metadata": {
    "ExecuteTime": {
     "end_time": "2025-07-18T02:00:10.754385Z",
     "start_time": "2025-07-18T02:00:10.234242Z"
    }
   },
   "cell_type": "code",
   "source": [
    "# Create directory for saving the model components\n",
    "import os\n",
    "import json\n",
    "\n",
    "output_dir = \"../models/finbert_bitcoin_sentiment__pretrained\"\n",
    "os.makedirs(output_dir, exist_ok=True)\n",
    "\n",
    "# Save the fine-tuned model\n",
    "trainer.model.save_pretrained(output_dir)\n",
    "\n",
    "# Save the tokenizer\n",
    "tokenizer.save_pretrained(output_dir)\n",
    "\n",
    "# Save label mappings for later reference\n",
    "with open(f\"{output_dir}/label_mappings.json\", \"w\") as f:\n",
    "    json.dump({\"id_to_label\": id_to_label, \"label_to_id\": label_to_id}, f)\n",
    "\n",
    "logger.info(f\"Model and tokenizer saved to {output_dir}\")"
   ],
   "id": "c0ddb7df10778d77",
   "outputs": [
    {
     "name": "stderr",
     "output_type": "stream",
     "text": [
      "\u001B[32m2025-07-18 09:00:10.751\u001B[0m | \u001B[1mINFO    \u001B[0m | \u001B[36m__main__\u001B[0m:\u001B[36m<module>\u001B[0m:\u001B[36m18\u001B[0m - \u001B[1mModel and tokenizer saved to ../models/finbert_bitcoin_sentiment_pretrained\u001B[0m\n"
     ]
    }
   ],
   "execution_count": 11
  }
 ],
 "metadata": {
  "kernelspec": {
   "display_name": ".venv",
   "language": "python",
   "name": "python3"
  },
  "language_info": {
   "codemirror_mode": {
    "name": "ipython",
    "version": 3
   },
   "file_extension": ".py",
   "mimetype": "text/x-python",
   "name": "python",
   "nbconvert_exporter": "python",
   "pygments_lexer": "ipython3",
   "version": "3.12.3"
  }
 },
 "nbformat": 4,
 "nbformat_minor": 5
}
