{
 "cells": [
  {
   "cell_type": "markdown",
   "id": "792e92b6",
   "metadata": {},
   "source": [
    "# Bitcoin Sentiment Analysis with FinBERT\n",
    "\n",
    "This notebook implements sentiment analysis on Bitcoin-related text using the FinBERT model.\n",
    "We fine-tune the pre-trained FinBERT model on a Bitcoin sentiment dataset and evaluate\n",
    "its performance using balanced accuracy and accuracy metrics."
   ]
  },
  {
   "cell_type": "markdown",
   "id": "5dc9111d",
   "metadata": {},
   "source": [
    "Import libraries for sentiment analysis using FinBERT with PyTorch, HuggingFace transformers, and evaluation metrics"
   ]
  },
  {
   "cell_type": "code",
   "id": "51b982b5",
   "metadata": {
    "ExecuteTime": {
     "end_time": "2025-07-17T04:04:54.060643Z",
     "start_time": "2025-07-17T04:04:47.078942Z"
    }
   },
   "source": [
    "from loguru import logger\n",
    "import torch\n",
    "import numpy as np\n",
    "import pandas as pd\n",
    "from datasets import load_dataset\n",
    "from transformers import (\n",
    "    pipeline,\n",
    "    AutoTokenizer,\n",
    "    Trainer,\n",
    "    TrainingArguments,\n",
    "    AutoModelForSequenceClassification,\n",
    ")\n",
    "from sklearn.metrics import balanced_accuracy_score, accuracy_score"
   ],
   "outputs": [
    {
     "name": "stderr",
     "output_type": "stream",
     "text": [
      "C:\\Users\\paypa\\OneDrive\\Desktop\\Project\\coinmarketcap-news-sentiment-analysis\\.venv\\Lib\\site-packages\\tqdm\\auto.py:21: TqdmWarning: IProgress not found. Please update jupyter and ipywidgets. See https://ipywidgets.readthedocs.io/en/stable/user_install.html\n",
      "  from .autonotebook import tqdm as notebook_tqdm\n"
     ]
    }
   ],
   "execution_count": 1
  },
  {
   "cell_type": "markdown",
   "id": "5b51eb7f",
   "metadata": {},
   "source": [
    "Set the pre-trained FinBERT model for financial sentiment analysis"
   ]
  },
  {
   "cell_type": "code",
   "id": "77b9a8ae",
   "metadata": {
    "ExecuteTime": {
     "end_time": "2025-07-17T04:04:54.071044Z",
     "start_time": "2025-07-17T04:04:54.068649Z"
    }
   },
   "source": [
    "model_name = \"yiyanghkust/finbert-tone\""
   ],
   "outputs": [],
   "execution_count": 2
  },
  {
   "cell_type": "markdown",
   "id": "e7dd6b2d",
   "metadata": {},
   "source": [
    "Check CUDA availability and set device for GPU acceleration or fallback to CPU"
   ]
  },
  {
   "cell_type": "code",
   "id": "4ea2ef60",
   "metadata": {
    "ExecuteTime": {
     "end_time": "2025-07-17T04:04:54.096510Z",
     "start_time": "2025-07-17T04:04:54.078054Z"
    }
   },
   "source": [
    "if torch.cuda.is_available():\n",
    "    logger.info(\"CUDA available. GPU will be used for computation.\")\n",
    "    device = 0\n",
    "else:\n",
    "    logger.info(\"CUDA not available. Using CPU for computation.\")\n",
    "    device = -1"
   ],
   "outputs": [
    {
     "name": "stderr",
     "output_type": "stream",
     "text": [
      "\u001B[32m2025-07-17 11:04:54.094\u001B[0m | \u001B[1mINFO    \u001B[0m | \u001B[36m__main__\u001B[0m:\u001B[36m<module>\u001B[0m:\u001B[36m2\u001B[0m - \u001B[1mCUDA available. GPU will be used for computation.\u001B[0m\n"
     ]
    }
   ],
   "execution_count": 3
  },
  {
   "cell_type": "markdown",
   "id": "220d1a39",
   "metadata": {},
   "source": [
    "Initialize sentiment analysis pipeline with FinBERT model and test with sample text"
   ]
  },
  {
   "cell_type": "code",
   "id": "01f4600d",
   "metadata": {
    "ExecuteTime": {
     "end_time": "2025-07-17T04:04:58.021524Z",
     "start_time": "2025-07-17T04:04:54.485886Z"
    }
   },
   "source": [
    "sentiment_pipeline = pipeline(\n",
    "    task=\"sentiment-analysis\", model=model_name, batch_size=128, device=device\n",
    ")\n",
    "\n",
    "result = sentiment_pipeline(\"I love you\")\n",
    "\n",
    "logger.info(result)"
   ],
   "outputs": [
    {
     "name": "stderr",
     "output_type": "stream",
     "text": [
      "Device set to use cuda:0\n",
      "\u001B[32m2025-07-17 11:04:58.019\u001B[0m | \u001B[1mINFO    \u001B[0m | \u001B[36m__main__\u001B[0m:\u001B[36m<module>\u001B[0m:\u001B[36m7\u001B[0m - \u001B[1m[{'label': 'Positive', 'score': 0.9885214567184448}]\u001B[0m\n"
     ]
    }
   ],
   "execution_count": 4
  },
  {
   "cell_type": "markdown",
   "id": "dd184615",
   "metadata": {},
   "source": [
    "Load Bitcoin sentiment dataset, split into train/val/test sets, preprocess text data, and prepare for model training"
   ]
  },
  {
   "cell_type": "code",
   "id": "4127d613",
   "metadata": {
    "ExecuteTime": {
     "end_time": "2025-07-17T04:05:02.210858Z",
     "start_time": "2025-07-17T04:04:58.031715Z"
    }
   },
   "source": [
    "# Load local dataset from parquet file\n",
    "import os\n",
    "from datasets import Dataset\n",
    "\n",
    "# Load the local parquet file\n",
    "data_path = os.path.join('..', 'backend', 'src', 'data', 'clean', 'cryptopanic_news_clean_with_labels.parquet')\n",
    "df = pd.read_parquet(data_path)\n",
    "\n",
    "# First, let's check what columns we have\n",
    "logger.info(f\"Available columns: {list(df.columns)}\")\n",
    "logger.info(f\"Dataset shape: {df.shape}\")\n",
    "\n",
    "# Identify text and label columns\n",
    "text_column = \"description\"\n",
    "label_column = \"sentiment\" \n",
    "\n",
    "logger.info(f\"Using text column: '{text_column}' and label column: '{label_column}'\")\n",
    "logger.info(f\"Unique labels: {df[label_column].value_counts().to_dict()}\")\n",
    "\n",
    "# Prepare the dataset with required columns\n",
    "df_prepared = df[[text_column, label_column]].copy()\n",
    "df_prepared.columns = ['text', 'labels']  # Rename to standard names\n",
    "\n",
    "# Remove any rows with missing values\n",
    "df_prepared = df_prepared.dropna()\n",
    "\n",
    "# Convert to Hugging Face Dataset\n",
    "full_dataset = Dataset.from_pandas(df_prepared, preserve_index=False)\n",
    "\n",
    "# Split into train/val/test sets (60%/20%/20%)\n",
    "total_samples = len(full_dataset)\n",
    "train_size = int(0.6 * total_samples)\n",
    "val_size = int(0.2 * total_samples)\n",
    "test_size = total_samples - train_size - val_size\n",
    "\n",
    "# Shuffle before splitting for better distribution\n",
    "full_dataset = full_dataset.shuffle(seed=42)\n",
    "\n",
    "ds_train = full_dataset.select(range(train_size))\n",
    "ds_val = full_dataset.select(range(train_size, train_size + val_size))\n",
    "ds_test = full_dataset.select(\n",
    "    range(train_size + val_size, train_size + val_size + test_size)\n",
    ")\n",
    "\n",
    "logger.info(f\"Train size: {len(ds_train)}, Val size: {len(ds_val)}, Test size: {len(ds_test)}\")\n",
    "\n",
    "# Initialize tokenizer\n",
    "tokenizer = AutoTokenizer.from_pretrained(model_name)\n",
    "\n",
    "# Create label mappings\n",
    "all_labels = set()\n",
    "for split in [ds_train, ds_val, ds_test]:\n",
    "    for example in split:\n",
    "        all_labels.add(example[\"labels\"])\n",
    "\n",
    "label_to_id = {label: idx for idx, label in enumerate(sorted(all_labels))}\n",
    "id_to_label = {idx: label for label, idx in label_to_id.items()}\n",
    "\n",
    "logger.info(f\"Label mappings: {label_to_id}\")\n",
    "\n",
    "def convert_labels_to_ids(examples):\n",
    "    examples[\"labels\"] = [label_to_id[label] for label in examples[\"labels\"]]\n",
    "    return examples\n",
    "\n",
    "\n",
    "# Convert labels to IDs\n",
    "ds_train = ds_train.map(convert_labels_to_ids, batched=True)\n",
    "ds_val = ds_val.map(convert_labels_to_ids, batched=True)\n",
    "ds_test = ds_test.map(convert_labels_to_ids, batched=True)\n",
    "\n",
    "\n",
    "# Tokenize the text\n",
    "def tokenize_function(examples):\n",
    "    tokenized = tokenizer(\n",
    "        examples[\"text\"], truncation=True, padding=\"max_length\", max_length=128\n",
    "    )\n",
    "    return tokenized\n",
    "\n",
    "ds_train = ds_train.map(tokenize_function, batched=True)\n",
    "ds_val = ds_val.map(tokenize_function, batched=True)\n",
    "ds_test = ds_test.map(tokenize_function, batched=True)\n",
    "\n",
    "# Set format for PyTorch\n",
    "ds_train.set_format(\n",
    "    type=\"torch\",\n",
    "    columns=[\"input_ids\", \"token_type_ids\", \"attention_mask\", \"labels\"],\n",
    ")\n",
    "ds_val.set_format(\n",
    "    type=\"torch\",\n",
    "    columns=[\"input_ids\", \"token_type_ids\", \"attention_mask\", \"labels\"],\n",
    ")\n",
    "ds_test.set_format(\n",
    "    type=\"torch\",\n",
    "    columns=[\"input_ids\", \"token_type_ids\", \"attention_mask\", \"labels\"],\n",
    ")\n",
    "\n",
    "logger.info(f\"ds_train example: {ds_train[0]}\")\n",
    "\n",
    "# Shuffle training data\n",
    "ds_train_shuffle = ds_train.shuffle(seed=42)\n"
   ],
   "outputs": [
    {
     "name": "stderr",
     "output_type": "stream",
     "text": [
      "\u001B[32m2025-07-17 11:04:58.098\u001B[0m | \u001B[1mINFO    \u001B[0m | \u001B[36m__main__\u001B[0m:\u001B[36m<module>\u001B[0m:\u001B[36m10\u001B[0m - \u001B[1mAvailable columns: ['cryptopanic_id', 'title', 'description', 'source_domain', 'published_at', 'cryptopanic_url', 'currencies', 'sentiment']\u001B[0m\n",
      "\u001B[32m2025-07-17 11:04:58.099\u001B[0m | \u001B[1mINFO    \u001B[0m | \u001B[36m__main__\u001B[0m:\u001B[36m<module>\u001B[0m:\u001B[36m11\u001B[0m - \u001B[1mDataset shape: (19468, 8)\u001B[0m\n",
      "\u001B[32m2025-07-17 11:04:58.100\u001B[0m | \u001B[1mINFO    \u001B[0m | \u001B[36m__main__\u001B[0m:\u001B[36m<module>\u001B[0m:\u001B[36m17\u001B[0m - \u001B[1mUsing text column: 'description' and label column: 'sentiment'\u001B[0m\n",
      "\u001B[32m2025-07-17 11:04:58.105\u001B[0m | \u001B[1mINFO    \u001B[0m | \u001B[36m__main__\u001B[0m:\u001B[36m<module>\u001B[0m:\u001B[36m18\u001B[0m - \u001B[1mUnique labels: {'Positive': 12461, 'Negative': 4977, 'Neutral': 2030}\u001B[0m\n",
      "\u001B[32m2025-07-17 11:04:58.144\u001B[0m | \u001B[1mINFO    \u001B[0m | \u001B[36m__main__\u001B[0m:\u001B[36m<module>\u001B[0m:\u001B[36m45\u001B[0m - \u001B[1mTrain size: 11680, Val size: 3893, Test size: 3895\u001B[0m\n",
      "\u001B[32m2025-07-17 11:05:00.957\u001B[0m | \u001B[1mINFO    \u001B[0m | \u001B[36m__main__\u001B[0m:\u001B[36m<module>\u001B[0m:\u001B[36m59\u001B[0m - \u001B[1mLabel mappings: {'Negative': 0, 'Neutral': 1, 'Positive': 2}\u001B[0m\n",
      "Map: 100%|██████████| 11680/11680 [00:00<00:00, 163676.87 examples/s]\n",
      "Map: 100%|██████████| 3893/3893 [00:00<00:00, 163253.24 examples/s]\n",
      "Map: 100%|██████████| 3895/3895 [00:00<00:00, 168960.74 examples/s]\n",
      "Map: 100%|██████████| 11680/11680 [00:00<00:00, 17146.63 examples/s]\n",
      "Map: 100%|██████████| 3893/3893 [00:00<00:00, 20212.62 examples/s]\n",
      "Map: 100%|██████████| 3895/3895 [00:00<00:00, 17687.02 examples/s]\n",
      "\u001B[32m2025-07-17 11:05:02.203\u001B[0m | \u001B[1mINFO    \u001B[0m | \u001B[36m__main__\u001B[0m:\u001B[36m<module>\u001B[0m:\u001B[36m97\u001B[0m - \u001B[1mds_train example: {'labels': tensor(0), 'input_ids': tensor([    3,    59,    74, 30805,  7477,   974,  9469, 28746,   268,    23,\n",
      "            6, 23912, 16807,    52,  1749,    18,  8090,   597, 10916,    63,\n",
      "            9,   566,   459, 30805,  1104,   994,   585,   195, 18264,     8,\n",
      "         6540,   974,  2354,  1099,   739,     7,   118,    10,    11,  1037,\n",
      "           48,     4,     0,     0,     0,     0,     0,     0,     0,     0,\n",
      "            0,     0,     0,     0,     0,     0,     0,     0,     0,     0,\n",
      "            0,     0,     0,     0,     0,     0,     0,     0,     0,     0,\n",
      "            0,     0,     0,     0,     0,     0,     0,     0,     0,     0,\n",
      "            0,     0,     0,     0,     0,     0,     0,     0,     0,     0,\n",
      "            0,     0,     0,     0,     0,     0,     0,     0,     0,     0,\n",
      "            0,     0,     0,     0,     0,     0,     0,     0,     0,     0,\n",
      "            0,     0,     0,     0,     0,     0,     0,     0,     0,     0,\n",
      "            0,     0,     0,     0,     0,     0,     0,     0]), 'token_type_ids': tensor([0, 0, 0, 0, 0, 0, 0, 0, 0, 0, 0, 0, 0, 0, 0, 0, 0, 0, 0, 0, 0, 0, 0, 0,\n",
      "        0, 0, 0, 0, 0, 0, 0, 0, 0, 0, 0, 0, 0, 0, 0, 0, 0, 0, 0, 0, 0, 0, 0, 0,\n",
      "        0, 0, 0, 0, 0, 0, 0, 0, 0, 0, 0, 0, 0, 0, 0, 0, 0, 0, 0, 0, 0, 0, 0, 0,\n",
      "        0, 0, 0, 0, 0, 0, 0, 0, 0, 0, 0, 0, 0, 0, 0, 0, 0, 0, 0, 0, 0, 0, 0, 0,\n",
      "        0, 0, 0, 0, 0, 0, 0, 0, 0, 0, 0, 0, 0, 0, 0, 0, 0, 0, 0, 0, 0, 0, 0, 0,\n",
      "        0, 0, 0, 0, 0, 0, 0, 0]), 'attention_mask': tensor([1, 1, 1, 1, 1, 1, 1, 1, 1, 1, 1, 1, 1, 1, 1, 1, 1, 1, 1, 1, 1, 1, 1, 1,\n",
      "        1, 1, 1, 1, 1, 1, 1, 1, 1, 1, 1, 1, 1, 1, 1, 1, 1, 1, 0, 0, 0, 0, 0, 0,\n",
      "        0, 0, 0, 0, 0, 0, 0, 0, 0, 0, 0, 0, 0, 0, 0, 0, 0, 0, 0, 0, 0, 0, 0, 0,\n",
      "        0, 0, 0, 0, 0, 0, 0, 0, 0, 0, 0, 0, 0, 0, 0, 0, 0, 0, 0, 0, 0, 0, 0, 0,\n",
      "        0, 0, 0, 0, 0, 0, 0, 0, 0, 0, 0, 0, 0, 0, 0, 0, 0, 0, 0, 0, 0, 0, 0, 0,\n",
      "        0, 0, 0, 0, 0, 0, 0, 0])}\u001B[0m\n"
     ]
    }
   ],
   "execution_count": 5
  },
  {
   "cell_type": "markdown",
   "id": "6cbce273",
   "metadata": {},
   "source": [
    "Define evaluation metrics function to compute balanced accuracy and accuracy scores for model predictions"
   ]
  },
  {
   "cell_type": "code",
   "id": "0aec3046",
   "metadata": {
    "ExecuteTime": {
     "end_time": "2025-07-17T04:05:02.234959Z",
     "start_time": "2025-07-17T04:05:02.230514Z"
    }
   },
   "source": [
    "def compute_metrics(eval_pred):\n",
    "    predictions, labels = eval_pred\n",
    "    predictions = np.argmax(predictions, axis=1)\n",
    "    return {\n",
    "        \"balanced_accuracy\": balanced_accuracy_score(predictions, labels),\n",
    "        \"accuracy\": accuracy_score(predictions, labels),\n",
    "    }"
   ],
   "outputs": [],
   "execution_count": 6
  },
  {
   "cell_type": "markdown",
   "id": "02fcbf0c",
   "metadata": {},
   "source": [
    "Configure training arguments with hyperparameters for fine-tuning FinBERT model on sentiment analysis task"
   ]
  },
  {
   "cell_type": "code",
   "id": "48366ad0",
   "metadata": {
    "ExecuteTime": {
     "end_time": "2025-07-17T04:05:02.303114Z",
     "start_time": "2025-07-17T04:05:02.254738Z"
    }
   },
   "source": [
    "args = TrainingArguments(\n",
    "    output_dir=\"temp/\",\n",
    "    eval_strategy=\"epoch\",\n",
    "    save_strategy=\"epoch\",\n",
    "    logging_strategy=\"steps\",\n",
    "    logging_steps=50,\n",
    "    learning_rate=2e-6,\n",
    "    per_device_train_batch_size=32,\n",
    "    per_device_eval_batch_size=32,\n",
    "    num_train_epochs=3,\n",
    "    weight_decay=0.1,\n",
    "    load_best_model_at_end=True,\n",
    "    metric_for_best_model=\"balanced_accuracy\",\n",
    ")"
   ],
   "outputs": [],
   "execution_count": 7
  },
  {
   "cell_type": "markdown",
   "id": "aac34c6e",
   "metadata": {},
   "source": [
    "Load pre-trained FinBERT model and configure it for sequence classification with custom label mappings"
   ]
  },
  {
   "cell_type": "code",
   "id": "57f78774",
   "metadata": {
    "ExecuteTime": {
     "end_time": "2025-07-17T04:05:03.687555Z",
     "start_time": "2025-07-17T04:05:02.317612Z"
    }
   },
   "source": [
    "model = AutoModelForSequenceClassification.from_pretrained(\n",
    "    model_name,\n",
    "    num_labels=len(label_to_id),\n",
    "    id2label=id_to_label,\n",
    "    label2id=label_to_id,\n",
    ")"
   ],
   "outputs": [],
   "execution_count": 8
  },
  {
   "cell_type": "markdown",
   "id": "4281d522",
   "metadata": {},
   "source": [
    "Initialize trainer with model and datasets, then fine-tune FinBERT and generate predictions on test set"
   ]
  },
  {
   "cell_type": "code",
   "id": "5058f8a7",
   "metadata": {
    "ExecuteTime": {
     "end_time": "2025-07-17T04:12:41.578777Z",
     "start_time": "2025-07-17T04:05:03.704764Z"
    }
   },
   "source": [
    "trainer = Trainer(\n",
    "    model=model,\n",
    "    args=args,\n",
    "    train_dataset=ds_train_shuffle,\n",
    "    eval_dataset=ds_val,\n",
    "    compute_metrics=compute_metrics,\n",
    ")\n",
    "\n",
    "trainer.train()\n",
    "\n",
    "predictions = trainer.predict(ds_test)"
   ],
   "outputs": [
    {
     "data": {
      "text/plain": [
       "<IPython.core.display.HTML object>"
      ],
      "text/html": [
       "\n",
       "    <div>\n",
       "      \n",
       "      <progress value='1095' max='1095' style='width:300px; height:20px; vertical-align: middle;'></progress>\n",
       "      [1095/1095 07:22, Epoch 3/3]\n",
       "    </div>\n",
       "    <table border=\"1\" class=\"dataframe\">\n",
       "  <thead>\n",
       " <tr style=\"text-align: left;\">\n",
       "      <th>Epoch</th>\n",
       "      <th>Training Loss</th>\n",
       "      <th>Validation Loss</th>\n",
       "      <th>Balanced Accuracy</th>\n",
       "      <th>Accuracy</th>\n",
       "    </tr>\n",
       "  </thead>\n",
       "  <tbody>\n",
       "    <tr>\n",
       "      <td>1</td>\n",
       "      <td>0.982200</td>\n",
       "      <td>0.940989</td>\n",
       "      <td>0.317979</td>\n",
       "      <td>0.625482</td>\n",
       "    </tr>\n",
       "    <tr>\n",
       "      <td>2</td>\n",
       "      <td>0.936200</td>\n",
       "      <td>0.911130</td>\n",
       "      <td>0.292900</td>\n",
       "      <td>0.627023</td>\n",
       "    </tr>\n",
       "    <tr>\n",
       "      <td>3</td>\n",
       "      <td>0.912500</td>\n",
       "      <td>0.909911</td>\n",
       "      <td>0.281448</td>\n",
       "      <td>0.629848</td>\n",
       "    </tr>\n",
       "  </tbody>\n",
       "</table><p>"
      ]
     },
     "metadata": {},
     "output_type": "display_data"
    },
    {
     "data": {
      "text/plain": [
       "<IPython.core.display.HTML object>"
      ],
      "text/html": []
     },
     "metadata": {},
     "output_type": "display_data"
    }
   ],
   "execution_count": 9
  },
  {
   "cell_type": "markdown",
   "id": "dd25bb69",
   "metadata": {},
   "source": [
    "Log model predictions and ground truth labels for analysis and debugging purposes"
   ]
  },
  {
   "cell_type": "code",
   "id": "d573898b",
   "metadata": {
    "ExecuteTime": {
     "end_time": "2025-07-17T04:12:41.708376Z",
     "start_time": "2025-07-17T04:12:41.703374Z"
    }
   },
   "source": [
    "logger.info(f\"Raw logits/predictions from the model: {predictions[0]}\")\n",
    "logger.info(f\"Labels from the dataset: {predictions[1]}\")"
   ],
   "outputs": [
    {
     "name": "stderr",
     "output_type": "stream",
     "text": [
      "\u001B[32m2025-07-17 11:12:41.704\u001B[0m | \u001B[1mINFO    \u001B[0m | \u001B[36m__main__\u001B[0m:\u001B[36m<module>\u001B[0m:\u001B[36m1\u001B[0m - \u001B[1mRaw logits/predictions from the model: [[-0.55833644 -0.18570296  1.1872989 ]\n",
      " [-0.56787324 -0.7137708   2.1606197 ]\n",
      " [-0.13270241 -0.444199    1.428188  ]\n",
      " ...\n",
      " [-0.0583357  -1.1820269   0.31701052]\n",
      " [-0.01474534 -0.6527146   0.16227673]\n",
      " [-0.31564218 -1.3497086   0.7305849 ]]\u001B[0m\n",
      "\u001B[32m2025-07-17 11:12:41.705\u001B[0m | \u001B[1mINFO    \u001B[0m | \u001B[36m__main__\u001B[0m:\u001B[36m<module>\u001B[0m:\u001B[36m2\u001B[0m - \u001B[1mLabels from the dataset: [1 2 2 ... 2 0 2]\u001B[0m\n"
     ]
    }
   ],
   "execution_count": 10
  },
  {
   "metadata": {
    "ExecuteTime": {
     "end_time": "2025-07-17T04:21:18.602286Z",
     "start_time": "2025-07-17T04:21:18.052605Z"
    }
   },
   "cell_type": "code",
   "source": [
    "# Create directory for saving the model components\n",
    "import os\n",
    "import json\n",
    "\n",
    "output_dir = \"../models/finbert_bitcoin_sentiment\"\n",
    "os.makedirs(output_dir, exist_ok=True)\n",
    "\n",
    "# Save the fine-tuned model\n",
    "trainer.model.save_pretrained(output_dir)\n",
    "\n",
    "# Save the tokenizer\n",
    "tokenizer.save_pretrained(output_dir)\n",
    "\n",
    "# Save label mappings for later reference\n",
    "with open(f\"{output_dir}/label_mappings.json\", \"w\") as f:\n",
    "    json.dump({\"id_to_label\": id_to_label, \"label_to_id\": label_to_id}, f)\n",
    "\n",
    "logger.info(f\"Model and tokenizer saved to {output_dir}\")"
   ],
   "id": "fe455357474ac1e3",
   "outputs": [
    {
     "name": "stderr",
     "output_type": "stream",
     "text": [
      "\u001B[32m2025-07-17 11:21:18.599\u001B[0m | \u001B[1mINFO    \u001B[0m | \u001B[36m__main__\u001B[0m:\u001B[36m<module>\u001B[0m:\u001B[36m18\u001B[0m - \u001B[1mModel and tokenizer saved to ../models/finbert_bitcoin_sentiment\u001B[0m\n"
     ]
    }
   ],
   "execution_count": 12
  }
 ],
 "metadata": {
  "kernelspec": {
   "display_name": ".venv",
   "language": "python",
   "name": "python3"
  },
  "language_info": {
   "codemirror_mode": {
    "name": "ipython",
    "version": 3
   },
   "file_extension": ".py",
   "mimetype": "text/x-python",
   "name": "python",
   "nbconvert_exporter": "python",
   "pygments_lexer": "ipython3",
   "version": "3.12.3"
  }
 },
 "nbformat": 4,
 "nbformat_minor": 5
}
