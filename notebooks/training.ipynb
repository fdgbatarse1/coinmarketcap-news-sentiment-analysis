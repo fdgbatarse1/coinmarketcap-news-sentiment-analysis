{
 "cells": [
  {
   "cell_type": "markdown",
   "id": "792e92b6",
   "metadata": {},
   "source": [
    "# Bitcoin Sentiment Analysis with FinBERT\n",
    "\n",
    "This notebook implements sentiment analysis on Bitcoin-related text using the FinBERT model.\n",
    "We fine-tune the pre-trained FinBERT model on a Bitcoin sentiment dataset and evaluate\n",
    "its performance using balanced accuracy and accuracy metrics."
   ]
  },
  {
   "cell_type": "markdown",
   "id": "5dc9111d",
   "metadata": {},
   "source": [
    "Import libraries for sentiment analysis using FinBERT with PyTorch, HuggingFace transformers, and evaluation metrics"
   ]
  },
  {
   "cell_type": "code",
   "execution_count": 21,
   "id": "51b982b5",
   "metadata": {},
   "outputs": [],
   "source": [
    "from loguru import logger\n",
    "import torch\n",
    "import numpy as np\n",
    "import pandas as pd\n",
    "from datasets import load_dataset\n",
    "from transformers import (\n",
    "    pipeline,\n",
    "    AutoTokenizer,\n",
    "    Trainer,\n",
    "    TrainingArguments,\n",
    "    AutoModelForSequenceClassification,\n",
    ")\n",
    "from sklearn.metrics import balanced_accuracy_score, accuracy_score"
   ]
  },
  {
   "cell_type": "markdown",
   "id": "5b51eb7f",
   "metadata": {},
   "source": [
    "Set the pre-trained FinBERT model for financial sentiment analysis"
   ]
  },
  {
   "cell_type": "code",
   "execution_count": 22,
   "id": "77b9a8ae",
   "metadata": {},
   "outputs": [],
   "source": [
    "model_name = \"yiyanghkust/finbert-tone\""
   ]
  },
  {
   "cell_type": "markdown",
   "id": "e7dd6b2d",
   "metadata": {},
   "source": [
    "Check CUDA availability and set device for GPU acceleration or fallback to CPU"
   ]
  },
  {
   "cell_type": "code",
   "execution_count": 23,
   "id": "4ea2ef60",
   "metadata": {},
   "outputs": [
    {
     "name": "stderr",
     "output_type": "stream",
     "text": [
      "\u001b[32m2025-07-16 14:36:03.035\u001b[0m | \u001b[1mINFO    \u001b[0m | \u001b[36m__main__\u001b[0m:\u001b[36m<module>\u001b[0m:\u001b[36m2\u001b[0m - \u001b[1mCUDA available. GPU will be used for computation.\u001b[0m\n"
     ]
    }
   ],
   "source": [
    "if torch.cuda.is_available():\n",
    "    logger.info(\"CUDA available. GPU will be used for computation.\")\n",
    "    device = 0\n",
    "else:\n",
    "    logger.info(\"CUDA not available. Using CPU for computation.\")\n",
    "    device = -1"
   ]
  },
  {
   "cell_type": "markdown",
   "id": "220d1a39",
   "metadata": {},
   "source": [
    "Initialize sentiment analysis pipeline with FinBERT model and test with sample text"
   ]
  },
  {
   "cell_type": "code",
   "execution_count": 24,
   "id": "01f4600d",
   "metadata": {},
   "outputs": [
    {
     "name": "stderr",
     "output_type": "stream",
     "text": [
      "Device set to use cuda:0\n",
      "\u001b[32m2025-07-16 14:36:04.494\u001b[0m | \u001b[1mINFO    \u001b[0m | \u001b[36m__main__\u001b[0m:\u001b[36m<module>\u001b[0m:\u001b[36m7\u001b[0m - \u001b[1m[{'label': 'Positive', 'score': 0.9885214567184448}]\u001b[0m\n"
     ]
    }
   ],
   "source": [
    "sentiment_pipeline = pipeline(\n",
    "    task=\"sentiment-analysis\", model=model_name, batch_size=128, device=device\n",
    ")\n",
    "\n",
    "result = sentiment_pipeline(\"I love you\")\n",
    "\n",
    "logger.info(result)"
   ]
  },
  {
   "cell_type": "markdown",
   "id": "dd184615",
   "metadata": {},
   "source": [
    "Load Bitcoin sentiment dataset, split into train/val/test sets, preprocess text data, and prepare for model training"
   ]
  },
  {
   "cell_type": "code",
   "execution_count": 25,
   "id": "37c38878",
   "metadata": {},
   "outputs": [
    {
     "name": "stderr",
     "output_type": "stream",
     "text": [
      "\u001b[32m2025-07-16 14:36:08.349\u001b[0m | \u001b[1mINFO    \u001b[0m | \u001b[36m__main__\u001b[0m:\u001b[36m<module>\u001b[0m:\u001b[36m65\u001b[0m - \u001b[1mds_train: {'labels': tensor(2), 'input_ids': tensor([    3, 17039,  4154,   487,  4121,   641,  6615,   574,  1898,  1419,\n",
      "           35,   445,  5674,   599,  2464,     9,  3209,    19,  4269,    48,\n",
      "            4,     0,     0,     0,     0,     0,     0,     0,     0,     0,\n",
      "            0,     0,     0,     0,     0,     0,     0,     0,     0,     0,\n",
      "            0,     0,     0,     0,     0,     0,     0,     0,     0,     0,\n",
      "            0,     0,     0,     0,     0,     0,     0,     0,     0,     0,\n",
      "            0,     0,     0,     0,     0,     0,     0,     0,     0,     0,\n",
      "            0,     0,     0,     0,     0,     0,     0,     0,     0,     0,\n",
      "            0,     0,     0,     0,     0,     0,     0,     0,     0,     0,\n",
      "            0,     0,     0,     0,     0,     0,     0,     0,     0,     0,\n",
      "            0,     0,     0,     0,     0,     0,     0,     0,     0,     0,\n",
      "            0,     0,     0,     0,     0,     0,     0,     0,     0,     0,\n",
      "            0,     0,     0,     0,     0,     0,     0,     0]), 'token_type_ids': tensor([0, 0, 0, 0, 0, 0, 0, 0, 0, 0, 0, 0, 0, 0, 0, 0, 0, 0, 0, 0, 0, 0, 0, 0,\n",
      "        0, 0, 0, 0, 0, 0, 0, 0, 0, 0, 0, 0, 0, 0, 0, 0, 0, 0, 0, 0, 0, 0, 0, 0,\n",
      "        0, 0, 0, 0, 0, 0, 0, 0, 0, 0, 0, 0, 0, 0, 0, 0, 0, 0, 0, 0, 0, 0, 0, 0,\n",
      "        0, 0, 0, 0, 0, 0, 0, 0, 0, 0, 0, 0, 0, 0, 0, 0, 0, 0, 0, 0, 0, 0, 0, 0,\n",
      "        0, 0, 0, 0, 0, 0, 0, 0, 0, 0, 0, 0, 0, 0, 0, 0, 0, 0, 0, 0, 0, 0, 0, 0,\n",
      "        0, 0, 0, 0, 0, 0, 0, 0]), 'attention_mask': tensor([1, 1, 1, 1, 1, 1, 1, 1, 1, 1, 1, 1, 1, 1, 1, 1, 1, 1, 1, 1, 1, 0, 0, 0,\n",
      "        0, 0, 0, 0, 0, 0, 0, 0, 0, 0, 0, 0, 0, 0, 0, 0, 0, 0, 0, 0, 0, 0, 0, 0,\n",
      "        0, 0, 0, 0, 0, 0, 0, 0, 0, 0, 0, 0, 0, 0, 0, 0, 0, 0, 0, 0, 0, 0, 0, 0,\n",
      "        0, 0, 0, 0, 0, 0, 0, 0, 0, 0, 0, 0, 0, 0, 0, 0, 0, 0, 0, 0, 0, 0, 0, 0,\n",
      "        0, 0, 0, 0, 0, 0, 0, 0, 0, 0, 0, 0, 0, 0, 0, 0, 0, 0, 0, 0, 0, 0, 0, 0,\n",
      "        0, 0, 0, 0, 0, 0, 0, 0])}\u001b[0m\n"
     ]
    }
   ],
   "source": [
    "ds = load_dataset(\"juanka0357/bitcoin-sentiment-analysis\")\n",
    "\n",
    "full_dataset = ds[\"train\"]\n",
    "\n",
    "total_samples = len(full_dataset)\n",
    "train_size = int(0.6 * total_samples)\n",
    "val_size = int(0.2 * total_samples)\n",
    "test_size = total_samples - train_size - val_size\n",
    "\n",
    "ds_train = full_dataset.select(range(train_size))\n",
    "ds_val = full_dataset.select(range(train_size, train_size + val_size))\n",
    "ds_test = full_dataset.select(\n",
    "    range(train_size + val_size, train_size + val_size + test_size)\n",
    ")\n",
    "\n",
    "tokenizer = AutoTokenizer.from_pretrained(model_name)\n",
    "\n",
    "ds_train = ds_train.rename_column(\"output\", \"labels\")\n",
    "ds_val = ds_val.rename_column(\"output\", \"labels\")\n",
    "ds_test = ds_test.rename_column(\"output\", \"labels\")\n",
    "\n",
    "ds_train = ds_train.rename_column(\"input\", \"text\")\n",
    "ds_val = ds_val.rename_column(\"input\", \"text\")\n",
    "ds_test = ds_test.rename_column(\"input\", \"text\")\n",
    "\n",
    "all_labels = set()\n",
    "for split in [ds_train, ds_val, ds_test]:\n",
    "    for example in split:\n",
    "        all_labels.add(example[\"labels\"])\n",
    "\n",
    "label_to_id = {label: idx for idx, label in enumerate(sorted(all_labels))}\n",
    "id_to_label = {idx: label for label, idx in label_to_id.items()}\n",
    "\n",
    "def convert_labels_to_ids(examples):\n",
    "    examples[\"labels\"] = [label_to_id[label] for label in examples[\"labels\"]]\n",
    "    return examples\n",
    "\n",
    "ds_train = ds_train.map(convert_labels_to_ids, batched=True)\n",
    "ds_val = ds_val.map(convert_labels_to_ids, batched=True)\n",
    "ds_test = ds_test.map(convert_labels_to_ids, batched=True)\n",
    "\n",
    "def tokenize_function(examples):\n",
    "    tokenized = tokenizer(\n",
    "        examples[\"text\"], truncation=True, padding=\"max_length\", max_length=128\n",
    "    )\n",
    "    return tokenized\n",
    "\n",
    "ds_train = ds_train.map(tokenize_function, batched=True)\n",
    "ds_val = ds_val.map(tokenize_function, batched=True)\n",
    "ds_test = ds_test.map(tokenize_function, batched=True)\n",
    "\n",
    "ds_train.set_format(\n",
    "    type=\"torch\",\n",
    "    columns=[\"input_ids\", \"token_type_ids\", \"attention_mask\", \"labels\"],\n",
    ")\n",
    "ds_val.set_format(\n",
    "    type=\"torch\",\n",
    "    columns=[\"input_ids\", \"token_type_ids\", \"attention_mask\", \"labels\"],\n",
    ")\n",
    "ds_test.set_format(\n",
    "    type=\"torch\",\n",
    "    columns=[\"input_ids\", \"token_type_ids\", \"attention_mask\", \"labels\"],\n",
    ")\n",
    "\n",
    "logger.info(f\"ds_train: {ds_train[0]}\")\n",
    "\n",
    "ds_train_shuffle = ds_train.shuffle(seed=42)"
   ]
  },
  {
   "cell_type": "markdown",
   "id": "6cbce273",
   "metadata": {},
   "source": [
    "Define evaluation metrics function to compute balanced accuracy and accuracy scores for model predictions"
   ]
  },
  {
   "cell_type": "code",
   "execution_count": 26,
   "id": "0aec3046",
   "metadata": {},
   "outputs": [],
   "source": [
    "def compute_metrics(eval_pred):\n",
    "    predictions, labels = eval_pred\n",
    "    predictions = np.argmax(predictions, axis=1)\n",
    "    return {\n",
    "        \"balanced_accuracy\": balanced_accuracy_score(predictions, labels),\n",
    "        \"accuracy\": accuracy_score(predictions, labels),\n",
    "    }"
   ]
  },
  {
   "cell_type": "markdown",
   "id": "02fcbf0c",
   "metadata": {},
   "source": [
    "Configure training arguments with hyperparameters for fine-tuning FinBERT model on sentiment analysis task"
   ]
  },
  {
   "cell_type": "code",
   "execution_count": 27,
   "id": "48366ad0",
   "metadata": {},
   "outputs": [],
   "source": [
    "args = TrainingArguments(\n",
    "    output_dir=\"temp/\",\n",
    "    eval_strategy=\"epoch\",\n",
    "    save_strategy=\"epoch\",\n",
    "    logging_strategy=\"steps\",\n",
    "    logging_steps=50,\n",
    "    learning_rate=2e-6,\n",
    "    per_device_train_batch_size=32,\n",
    "    per_device_eval_batch_size=32,\n",
    "    num_train_epochs=3,\n",
    "    weight_decay=0.1,\n",
    "    load_best_model_at_end=True,\n",
    "    metric_for_best_model=\"balanced_accuracy\",\n",
    ")"
   ]
  },
  {
   "cell_type": "markdown",
   "id": "aac34c6e",
   "metadata": {},
   "source": [
    "Load pre-trained FinBERT model and configure it for sequence classification with custom label mappings"
   ]
  },
  {
   "cell_type": "code",
   "execution_count": 28,
   "id": "57f78774",
   "metadata": {},
   "outputs": [],
   "source": [
    "model = AutoModelForSequenceClassification.from_pretrained(\n",
    "    model_name,\n",
    "    num_labels=len(label_to_id),\n",
    "    id2label=id_to_label,\n",
    "    label2id=label_to_id,\n",
    ")"
   ]
  },
  {
   "cell_type": "markdown",
   "id": "4281d522",
   "metadata": {},
   "source": [
    "Initialize trainer with model and datasets, then fine-tune FinBERT and generate predictions on test set"
   ]
  },
  {
   "cell_type": "code",
   "execution_count": 29,
   "id": "5058f8a7",
   "metadata": {},
   "outputs": [
    {
     "data": {
      "text/html": [
       "\n",
       "    <div>\n",
       "      \n",
       "      <progress value='108' max='108' style='width:300px; height:20px; vertical-align: middle;'></progress>\n",
       "      [108/108 00:33, Epoch 3/3]\n",
       "    </div>\n",
       "    <table border=\"1\" class=\"dataframe\">\n",
       "  <thead>\n",
       " <tr style=\"text-align: left;\">\n",
       "      <th>Epoch</th>\n",
       "      <th>Training Loss</th>\n",
       "      <th>Validation Loss</th>\n",
       "      <th>Balanced Accuracy</th>\n",
       "      <th>Accuracy</th>\n",
       "    </tr>\n",
       "  </thead>\n",
       "  <tbody>\n",
       "    <tr>\n",
       "      <td>1</td>\n",
       "      <td>No log</td>\n",
       "      <td>1.981895</td>\n",
       "      <td>0.455102</td>\n",
       "      <td>0.546174</td>\n",
       "    </tr>\n",
       "    <tr>\n",
       "      <td>2</td>\n",
       "      <td>3.741800</td>\n",
       "      <td>1.242855</td>\n",
       "      <td>0.621209</td>\n",
       "      <td>0.651715</td>\n",
       "    </tr>\n",
       "    <tr>\n",
       "      <td>3</td>\n",
       "      <td>1.314500</td>\n",
       "      <td>1.123300</td>\n",
       "      <td>0.641171</td>\n",
       "      <td>0.656992</td>\n",
       "    </tr>\n",
       "  </tbody>\n",
       "</table><p>"
      ],
      "text/plain": [
       "<IPython.core.display.HTML object>"
      ]
     },
     "metadata": {},
     "output_type": "display_data"
    },
    {
     "data": {
      "text/html": [],
      "text/plain": [
       "<IPython.core.display.HTML object>"
      ]
     },
     "metadata": {},
     "output_type": "display_data"
    }
   ],
   "source": [
    "trainer = Trainer(\n",
    "    model=model,\n",
    "    args=args,\n",
    "    train_dataset=ds_train_shuffle,\n",
    "    eval_dataset=ds_val,\n",
    "    compute_metrics=compute_metrics,\n",
    ")\n",
    "\n",
    "trainer.train()\n",
    "\n",
    "predictions = trainer.predict(ds_test)"
   ]
  },
  {
   "cell_type": "markdown",
   "id": "dd25bb69",
   "metadata": {},
   "source": [
    "Log model predictions and ground truth labels for analysis and debugging purposes"
   ]
  },
  {
   "cell_type": "code",
   "execution_count": 30,
   "id": "d573898b",
   "metadata": {},
   "outputs": [
    {
     "name": "stderr",
     "output_type": "stream",
     "text": [
      "\u001b[32m2025-07-16 14:36:43.520\u001b[0m | \u001b[1mINFO    \u001b[0m | \u001b[36m__main__\u001b[0m:\u001b[36m<module>\u001b[0m:\u001b[36m1\u001b[0m - \u001b[1mRaw logits/predictions from the model: [[-1.8044204   0.20923893 -1.3121202 ]\n",
      " [ 0.04278786  0.7093077  -0.63570625]\n",
      " [-1.8451368   3.171665   -0.84985834]\n",
      " ...\n",
      " [-2.0087445  -0.15749407  3.3543968 ]\n",
      " [-2.0087445  -0.15749407  3.3543968 ]\n",
      " [-2.0087445  -0.15749407  3.3543968 ]]\u001b[0m\n",
      "\u001b[32m2025-07-16 14:36:43.523\u001b[0m | \u001b[1mINFO    \u001b[0m | \u001b[36m__main__\u001b[0m:\u001b[36m<module>\u001b[0m:\u001b[36m2\u001b[0m - \u001b[1mLabels from the dataset: [1 1 0 2 1 0 2 1 2 1 2 0 0 1 1 2 1 2 1 1 1 1 2 1 2 1 1 2 1 2 1 2 2 2 1 2 2\n",
      " 2 1 2 1 2 2 2 1 2 2 2 0 2 1 2 2 2 1 1 2 0 0 0 0 0 1 2 1 1 1 2 1 2 1 1 2 0\n",
      " 2 2 2 0 0 2 2 0 2 2 1 0 1 1 2 2 2 1 0 1 2 1 1 2 2 1 2 2 2 2 1 1 2 2 0 2 2\n",
      " 0 1 2 1 1 1 0 2 2 2 1 2 2 1 1 2 1 2 2 2 2 0 1 2 2 2 1 2 0 2 2 0 2 0 2 2 2\n",
      " 2 2 2 2 2 2 2 2 1 2 2 2 2 1 2 1 1 1 2 1 1 1 1 1 0 1 1 1 2 1 1 1 1 0 0 0 0\n",
      " 1 0 1 2 1 2 1 2 2 1 2 1 1 1 2 2 1 1 1 1 1 1 1 2 2 2 2 1 1 2 2 1 1 1 2 2 1\n",
      " 1 1 1 0 1 1 2 1 2 2 2 2 2 1 2 1 1 1 2 1 2 1 2 1 1 2 2 1 1 2 2 2 1 2 2 2 2\n",
      " 2 2 2 2 2 2 2 2 2 1 2 0 2 1 2 2 2 2 2 2 1 2 1 1 2 0 1 1 1 1 2 1 2 1 2 1 1\n",
      " 2 1 1 2 2 0 0 0 0 0 1 2 1 1 1 2 2 2 2 2 1 2 1 2 2 2 1 2 2 0 2 1 1 1 2 2 1\n",
      " 1 1 2 2 1 2 1 2 2 2 2 1 2 1 2 2 2 2 2 0 1 1 2 2 1 1 2 2 1 0 1 0 2 2 1 2 1\n",
      " 1 1 2 2 2 2 1 2 2 2]\u001b[0m\n"
     ]
    }
   ],
   "source": [
    "logger.info(f\"Raw logits/predictions from the model: {predictions[0]}\")\n",
    "logger.info(f\"Labels from the dataset: {predictions[1]}\")"
   ]
  }
 ],
 "metadata": {
  "kernelspec": {
   "display_name": ".venv",
   "language": "python",
   "name": "python3"
  },
  "language_info": {
   "codemirror_mode": {
    "name": "ipython",
    "version": 3
   },
   "file_extension": ".py",
   "mimetype": "text/x-python",
   "name": "python",
   "nbconvert_exporter": "python",
   "pygments_lexer": "ipython3",
   "version": "3.12.3"
  }
 },
 "nbformat": 4,
 "nbformat_minor": 5
}
