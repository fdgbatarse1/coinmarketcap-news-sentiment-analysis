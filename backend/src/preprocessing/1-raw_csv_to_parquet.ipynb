{
 "cells": [
  {
   "cell_type": "markdown",
   "id": "f7eee97c",
   "metadata": {},
   "source": [
    "Skip if data already in parquet, compressed form\n",
    "\n",
    "Data manually got from https://github.com/soheilrahsaz/cryptoNewsDataset\n",
    "\n",
    "Later on, we'll try to get more recent data from cryptopanic"
   ]
  },
  {
   "cell_type": "code",
   "execution_count": 10,
   "id": "d943c5d2",
   "metadata": {},
   "outputs": [],
   "source": [
    "import os\n",
    "from dotenv import load_dotenv\n",
    "\n",
    "load_dotenv()\n",
    "\n",
    "RAW_DATA_FOLDER = os.getenv('RAW_DATA_FOLDER', '/data/raw')\n",
    "CLEAN_DATA_FOLDER = os.getenv('CLEAN_DATA_FOLDER', '/data/clean')"
   ]
  },
  {
   "cell_type": "code",
   "execution_count": 11,
   "id": "5ed56256",
   "metadata": {},
   "outputs": [
    {
     "name": "stdout",
     "output_type": "stream",
     "text": [
      "Converted ../data/raw/news_currencies_source_joinedResult.csv to ../data/raw/cryptopanic_news.parquet\n",
      "Converted ../data/raw/currency.csv to ../data/raw/currencies.parquet\n"
     ]
    }
   ],
   "source": [
    "import polars as pl\n",
    "from typing import Optional\n",
    "\n",
    "def csv_to_parquet(input_csv: str, output_parquet: Optional[str] = None) -> None:\n",
    "    \"\"\"\n",
    "    Convert a CSV file to a Parquet file.\n",
    "\n",
    "    :param input_csv: Path to the input CSV file.\n",
    "    :param output_parquet: Optional path for the output Parquet file. If not provided, it will use the same name as the input CSV with a .parquet extension.\n",
    "    \"\"\"\n",
    "    if output_parquet is None:\n",
    "        output_parquet = input_csv.replace('.csv', '.parquet')\n",
    "\n",
    "    # Read the CSV file\n",
    "    df = pl.read_csv(input_csv)\n",
    "\n",
    "    # Write to Parquet file\n",
    "    df.write_parquet(output_parquet)\n",
    "\n",
    "FILES_TO_COMPRESS = [\n",
    "    (f\"{RAW_DATA_FOLDER}/news_currencies_source_joinedResult.csv\", f\"{RAW_DATA_FOLDER}/cryptopanic_news.parquet\"),\n",
    "    (f\"{RAW_DATA_FOLDER}/currency.csv\", f\"{RAW_DATA_FOLDER}/currencies.parquet\"),\n",
    "]\n",
    "\n",
    "for csv_file, parquet_file in FILES_TO_COMPRESS:\n",
    "    csv_to_parquet(csv_file, parquet_file)\n",
    "    print(f\"Converted {csv_file} to {parquet_file if parquet_file else csv_file.replace('.csv', '.parquet')}\")"
   ]
  }
 ],
 "metadata": {
  "kernelspec": {
   "display_name": "Python 3",
   "language": "python",
   "name": "python3"
  },
  "language_info": {
   "codemirror_mode": {
    "name": "ipython",
    "version": 3
   },
   "file_extension": ".py",
   "mimetype": "text/x-python",
   "name": "python",
   "nbconvert_exporter": "python",
   "pygments_lexer": "ipython3",
   "version": "3.12.11"
  }
 },
 "nbformat": 4,
 "nbformat_minor": 5
}
