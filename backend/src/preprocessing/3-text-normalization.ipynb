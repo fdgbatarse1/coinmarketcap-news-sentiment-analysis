{
 "cells": [
  {
   "cell_type": "markdown",
   "id": "0ccd564c",
   "metadata": {},
   "source": [
    "Finance BERT already handles tokenization, so we don't need to lowercase the text, just trimming whitespaces and removing weird characters"
   ]
  },
  {
   "cell_type": "code",
   "execution_count": 17,
   "id": "287754b5",
   "metadata": {},
   "outputs": [],
   "source": [
    "import os\n",
    "from dotenv import load_dotenv\n",
    "\n",
    "load_dotenv()\n",
    "\n",
    "RAW_DATA_FOLDER = os.getenv('RAW_DATA_FOLDER', '/data/raw')\n",
    "CLEAN_DATA_FOLDER = os.getenv('CLEAN_DATA_FOLDER', '/data/clean')"
   ]
  },
  {
   "cell_type": "code",
   "execution_count": 18,
   "id": "5b0feb6a",
   "metadata": {},
   "outputs": [
    {
     "data": {
      "text/html": [
       "<div><style>\n",
       ".dataframe > thead > tr,\n",
       ".dataframe > tbody > tr {\n",
       "  text-align: right;\n",
       "  white-space: pre-wrap;\n",
       "}\n",
       "</style>\n",
       "<small>shape: (5, 2)</small><table border=\"1\" class=\"dataframe\"><thead><tr><th>title</th><th>description</th></tr><tr><td>str</td><td>str</td></tr></thead><tbody><tr><td>&quot;Crypto Investor Makes Over 3,6…</td><td>&quot;An investor has made an incred…</td></tr><tr><td>&quot;Cardano’s 10% jump sparks hope…</td><td>&quot;After a quiet December, 2025 s…</td></tr><tr><td>&quot;Someone Paid 93 ETH In Fees Fo…</td><td>&quot;Data shows someone has today p…</td></tr><tr><td>&quot;‘Critical’ Polygon bug put $24…</td><td>&quot;Polygon was at risk of losing …</td></tr><tr><td>&quot;Charles Hoskinson reveals ‘con…</td><td>&quot;The cryptocurrency market may …</td></tr></tbody></table></div>"
      ],
      "text/plain": [
       "shape: (5, 2)\n",
       "┌─────────────────────────────────┬─────────────────────────────────┐\n",
       "│ title                           ┆ description                     │\n",
       "│ ---                             ┆ ---                             │\n",
       "│ str                             ┆ str                             │\n",
       "╞═════════════════════════════════╪═════════════════════════════════╡\n",
       "│ Crypto Investor Makes Over 3,6… ┆ An investor has made an incred… │\n",
       "│ Cardano’s 10% jump sparks hope… ┆ After a quiet December, 2025 s… │\n",
       "│ Someone Paid 93 ETH In Fees Fo… ┆ Data shows someone has today p… │\n",
       "│ ‘Critical’ Polygon bug put $24… ┆ Polygon was at risk of losing … │\n",
       "│ Charles Hoskinson reveals ‘con… ┆ The cryptocurrency market may … │\n",
       "└─────────────────────────────────┴─────────────────────────────────┘"
      ]
     },
     "execution_count": 18,
     "metadata": {},
     "output_type": "execute_result"
    }
   ],
   "source": [
    "import polars as pl\n",
    "from typing import Optional\n",
    "import re\n",
    "\n",
    "def light_normalize_text(text: Optional[str]) -> Optional[str]:\n",
    "    \"\"\"\n",
    "    Normalize text by trimming whitespace and removing non-printable characters.\n",
    "    \"\"\"\n",
    "\n",
    "    if not text:\n",
    "        return text\n",
    "\n",
    "    # replace multiple spaces with a single space\n",
    "    text = re.sub(r'\\s+', ' ', text) \n",
    "\n",
    "    # remove non-printable characters\n",
    "    text = ''.join([c for c in text if c.isprintable()])  \n",
    "    \n",
    "    # trim leading and trailing whitespace\n",
    "    text = text.strip()  \n",
    "\n",
    "    return text\n",
    "\n",
    "cryptonews_df = pl.read_parquet(f\"{CLEAN_DATA_FOLDER}/cryptopanic_news_clean.parquet\")\n",
    "\n",
    "cryptonews_df[[\"title\", \"description\"]].head(5)"
   ]
  },
  {
   "cell_type": "code",
   "execution_count": 19,
   "id": "a8a49257",
   "metadata": {},
   "outputs": [
    {
     "data": {
      "text/html": [
       "<div><style>\n",
       ".dataframe > thead > tr,\n",
       ".dataframe > tbody > tr {\n",
       "  text-align: right;\n",
       "  white-space: pre-wrap;\n",
       "}\n",
       "</style>\n",
       "<small>shape: (5, 2)</small><table border=\"1\" class=\"dataframe\"><thead><tr><th>title</th><th>description</th></tr><tr><td>str</td><td>str</td></tr></thead><tbody><tr><td>&quot;Crypto Investor Makes Over 3,6…</td><td>&quot;An investor has made an incred…</td></tr><tr><td>&quot;Cardano’s 10% jump sparks hope…</td><td>&quot;After a quiet December, 2025 s…</td></tr><tr><td>&quot;Someone Paid 93 ETH In Fees Fo…</td><td>&quot;Data shows someone has today p…</td></tr><tr><td>&quot;‘Critical’ Polygon bug put $24…</td><td>&quot;Polygon was at risk of losing …</td></tr><tr><td>&quot;Charles Hoskinson reveals ‘con…</td><td>&quot;The cryptocurrency market may …</td></tr></tbody></table></div>"
      ],
      "text/plain": [
       "shape: (5, 2)\n",
       "┌─────────────────────────────────┬─────────────────────────────────┐\n",
       "│ title                           ┆ description                     │\n",
       "│ ---                             ┆ ---                             │\n",
       "│ str                             ┆ str                             │\n",
       "╞═════════════════════════════════╪═════════════════════════════════╡\n",
       "│ Crypto Investor Makes Over 3,6… ┆ An investor has made an incred… │\n",
       "│ Cardano’s 10% jump sparks hope… ┆ After a quiet December, 2025 s… │\n",
       "│ Someone Paid 93 ETH In Fees Fo… ┆ Data shows someone has today p… │\n",
       "│ ‘Critical’ Polygon bug put $24… ┆ Polygon was at risk of losing … │\n",
       "│ Charles Hoskinson reveals ‘con… ┆ The cryptocurrency market may … │\n",
       "└─────────────────────────────────┴─────────────────────────────────┘"
      ]
     },
     "execution_count": 19,
     "metadata": {},
     "output_type": "execute_result"
    }
   ],
   "source": [
    "# Normalize the text columns\n",
    "cryptonews_light_normalized_df = cryptonews_df.with_columns(\n",
    "    pl.col(\"title\").map_elements(light_normalize_text, return_dtype=pl.String),\n",
    "    pl.col(\"description\").map_elements(light_normalize_text, return_dtype=pl.String),\n",
    ")\n",
    "\n",
    "cryptonews_light_normalized_df[[\"title\", \"description\"]].head(5)"
   ]
  },
  {
   "cell_type": "code",
   "execution_count": 20,
   "id": "c0d4450f",
   "metadata": {},
   "outputs": [],
   "source": [
    "cryptonews_light_normalized_df.write_parquet(f\"{CLEAN_DATA_FOLDER}/cryptopanic_news_light_normalized.parquet\")"
   ]
  }
 ],
 "metadata": {
  "kernelspec": {
   "display_name": "Python 3",
   "language": "python",
   "name": "python3"
  },
  "language_info": {
   "codemirror_mode": {
    "name": "ipython",
    "version": 3
   },
   "file_extension": ".py",
   "mimetype": "text/x-python",
   "name": "python",
   "nbconvert_exporter": "python",
   "pygments_lexer": "ipython3",
   "version": "3.12.11"
  }
 },
 "nbformat": 4,
 "nbformat_minor": 5
}
