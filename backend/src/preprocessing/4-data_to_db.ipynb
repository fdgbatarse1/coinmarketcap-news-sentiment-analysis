{
 "cells": [
  {
   "cell_type": "code",
   "execution_count": 1,
   "id": "44a01895",
   "metadata": {},
   "outputs": [],
   "source": [
    "import os\n",
    "from dotenv import load_dotenv\n",
    "\n",
    "load_dotenv()\n",
    "\n",
    "RAW_DATA_FOLDER = os.getenv(\"RAW_DATA_FOLDER\", \"/data/raw\")\n",
    "CLEAN_DATA_FOLDER = os.getenv(\"CLEAN_DATA_FOLDER\", \"/data/clean\")"
   ]
  },
  {
   "cell_type": "code",
   "execution_count": 2,
   "id": "4fa63499",
   "metadata": {},
   "outputs": [
    {
     "data": {
      "text/html": [
       "<div><style>\n",
       ".dataframe > thead > tr,\n",
       ".dataframe > tbody > tr {\n",
       "  text-align: right;\n",
       "  white-space: pre-wrap;\n",
       "}\n",
       "</style>\n",
       "<small>shape: (22_897, 7)</small><table border=\"1\" class=\"dataframe\"><thead><tr><th>cryptopanic_id</th><th>title</th><th>description</th><th>source_domain</th><th>published_at</th><th>cryptopanic_url</th><th>currencies</th></tr><tr><td>i64</td><td>str</td><td>str</td><td>str</td><td>datetime[μs]</td><td>str</td><td>str</td></tr></thead><tbody><tr><td>176510</td><td>&quot;Crypto Investor Makes Over 3,6…</td><td>&quot;An investor has made an incred…</td><td>&quot;cryptodnes.bg&quot;</td><td>2024-12-20 10:00:54</td><td>&quot;https://cryptopanic.com/news/2…</td><td>&quot;SOL&quot;</td></tr><tr><td>176215</td><td>&quot;Cardano’s 10% jump sparks hope…</td><td>&quot;After a quiet December, 2025 s…</td><td>&quot;ambcrypto.com&quot;</td><td>2025-01-02 11:00:07</td><td>&quot;https://cryptopanic.com/news/2…</td><td>&quot;ADA&quot;</td></tr><tr><td>87112</td><td>&quot;Someone Paid 93 ETH In Fees Fo…</td><td>&quot;Data shows someone has today p…</td><td>&quot;bitcoinist.com&quot;</td><td>2022-11-18 16:00:04</td><td>&quot;https://cryptopanic.com/news/1…</td><td>&quot;ETH&quot;</td></tr><tr><td>82678</td><td>&quot;‘Critical’ Polygon bug put $24…</td><td>&quot;Polygon was at risk of losing …</td><td>&quot;theblockcrypto.com&quot;</td><td>2021-12-29 19:01:22</td><td>&quot;https://cryptopanic.com/news/m…</td><td>&quot;MATIC&quot;</td></tr><tr><td>120931</td><td>&quot;Charles Hoskinson reveals ‘con…</td><td>&quot;The cryptocurrency market may …</td><td>&quot;finbold.com&quot;</td><td>2022-12-08 14:16:55</td><td>&quot;https://cryptopanic.com/news/1…</td><td>&quot;ADA,XCN&quot;</td></tr><tr><td>&hellip;</td><td>&hellip;</td><td>&hellip;</td><td>&hellip;</td><td>&hellip;</td><td>&hellip;</td><td>&hellip;</td></tr><tr><td>92034</td><td>&quot;$0.001 SHIB Price Beckons As S…</td><td>&quot;Moreover, the surging interest…</td><td>&quot;zycrypto.com&quot;</td><td>2023-07-11 17:53:13</td><td>&quot;https://cryptopanic.com/news/1…</td><td>&quot;SHIB&quot;</td></tr><tr><td>183725</td><td>&quot;U.S banks can now legally hand…</td><td>&quot;Market watchers believe allowi…</td><td>&quot;ambcrypto.com&quot;</td><td>2025-03-08 10:00:24</td><td>&quot;https://cryptopanic.com/news/2…</td><td>&quot;BTC&quot;</td></tr><tr><td>88544</td><td>&quot;Cardano Founder Charles Hoskin…</td><td>&quot;Cardano founder, Hoskinson has…</td><td>&quot;bitcoinist.com&quot;</td><td>2023-11-06 16:00:18</td><td>&quot;https://cryptopanic.com/news/1…</td><td>&quot;ADA&quot;</td></tr><tr><td>82629</td><td>&quot;‘Wormhole’ protocol goes live,…</td><td>&quot;Wormhole, a cross-chain messag…</td><td>&quot;finbold.com&quot;</td><td>2021-08-09 19:44:29</td><td>&quot;https://cryptopanic.com/news/t…</td><td>&quot;ETH,SOL&quot;</td></tr><tr><td>148259</td><td>&quot;Cardano Founder Calls Out Omis…</td><td>&quot;Cardano founder Charles Hoskin…</td><td>&quot;bitcoinist.com&quot;</td><td>2023-12-21 19:00:41</td><td>&quot;https://cryptopanic.com/news/1…</td><td>&quot;ADA&quot;</td></tr></tbody></table></div>"
      ],
      "text/plain": [
       "shape: (22_897, 7)\n",
       "┌──────────────┬──────────────┬─────────────┬─────────────┬─────────────┬─────────────┬────────────┐\n",
       "│ cryptopanic_ ┆ title        ┆ description ┆ source_doma ┆ published_a ┆ cryptopanic ┆ currencies │\n",
       "│ id           ┆ ---          ┆ ---         ┆ in          ┆ t           ┆ _url        ┆ ---        │\n",
       "│ ---          ┆ str          ┆ str         ┆ ---         ┆ ---         ┆ ---         ┆ str        │\n",
       "│ i64          ┆              ┆             ┆ str         ┆ datetime[μs ┆ str         ┆            │\n",
       "│              ┆              ┆             ┆             ┆ ]           ┆             ┆            │\n",
       "╞══════════════╪══════════════╪═════════════╪═════════════╪═════════════╪═════════════╪════════════╡\n",
       "│ 176510       ┆ Crypto       ┆ An investor ┆ cryptodnes. ┆ 2024-12-20  ┆ https://cry ┆ SOL        │\n",
       "│              ┆ Investor     ┆ has made an ┆ bg          ┆ 10:00:54    ┆ ptopanic.co ┆            │\n",
       "│              ┆ Makes Over   ┆ incred…     ┆             ┆             ┆ m/news/2…   ┆            │\n",
       "│              ┆ 3,6…         ┆             ┆             ┆             ┆             ┆            │\n",
       "│ 176215       ┆ Cardano’s    ┆ After a     ┆ ambcrypto.c ┆ 2025-01-02  ┆ https://cry ┆ ADA        │\n",
       "│              ┆ 10% jump     ┆ quiet       ┆ om          ┆ 11:00:07    ┆ ptopanic.co ┆            │\n",
       "│              ┆ sparks hope… ┆ December,   ┆             ┆             ┆ m/news/2…   ┆            │\n",
       "│              ┆              ┆ 2025 s…     ┆             ┆             ┆             ┆            │\n",
       "│ 87112        ┆ Someone Paid ┆ Data shows  ┆ bitcoinist. ┆ 2022-11-18  ┆ https://cry ┆ ETH        │\n",
       "│              ┆ 93 ETH In    ┆ someone has ┆ com         ┆ 16:00:04    ┆ ptopanic.co ┆            │\n",
       "│              ┆ Fees Fo…     ┆ today p…    ┆             ┆             ┆ m/news/1…   ┆            │\n",
       "│ 82678        ┆ ‘Critical’   ┆ Polygon was ┆ theblockcry ┆ 2021-12-29  ┆ https://cry ┆ MATIC      │\n",
       "│              ┆ Polygon bug  ┆ at risk of  ┆ pto.com     ┆ 19:01:22    ┆ ptopanic.co ┆            │\n",
       "│              ┆ put $24…     ┆ losing …    ┆             ┆             ┆ m/news/m…   ┆            │\n",
       "│ 120931       ┆ Charles      ┆ The cryptoc ┆ finbold.com ┆ 2022-12-08  ┆ https://cry ┆ ADA,XCN    │\n",
       "│              ┆ Hoskinson    ┆ urrency     ┆             ┆ 14:16:55    ┆ ptopanic.co ┆            │\n",
       "│              ┆ reveals      ┆ market may  ┆             ┆             ┆ m/news/1…   ┆            │\n",
       "│              ┆ ‘con…        ┆ …           ┆             ┆             ┆             ┆            │\n",
       "│ …            ┆ …            ┆ …           ┆ …           ┆ …           ┆ …           ┆ …          │\n",
       "│ 92034        ┆ $0.001 SHIB  ┆ Moreover,   ┆ zycrypto.co ┆ 2023-07-11  ┆ https://cry ┆ SHIB       │\n",
       "│              ┆ Price        ┆ the surging ┆ m           ┆ 17:53:13    ┆ ptopanic.co ┆            │\n",
       "│              ┆ Beckons As   ┆ interest…   ┆             ┆             ┆ m/news/1…   ┆            │\n",
       "│              ┆ S…           ┆             ┆             ┆             ┆             ┆            │\n",
       "│ 183725       ┆ U.S banks    ┆ Market      ┆ ambcrypto.c ┆ 2025-03-08  ┆ https://cry ┆ BTC        │\n",
       "│              ┆ can now      ┆ watchers    ┆ om          ┆ 10:00:24    ┆ ptopanic.co ┆            │\n",
       "│              ┆ legally      ┆ believe     ┆             ┆             ┆ m/news/2…   ┆            │\n",
       "│              ┆ hand…        ┆ allowi…     ┆             ┆             ┆             ┆            │\n",
       "│ 88544        ┆ Cardano      ┆ Cardano     ┆ bitcoinist. ┆ 2023-11-06  ┆ https://cry ┆ ADA        │\n",
       "│              ┆ Founder      ┆ founder,    ┆ com         ┆ 16:00:18    ┆ ptopanic.co ┆            │\n",
       "│              ┆ Charles      ┆ Hoskinson   ┆             ┆             ┆ m/news/1…   ┆            │\n",
       "│              ┆ Hoskin…      ┆ has…        ┆             ┆             ┆             ┆            │\n",
       "│ 82629        ┆ ‘Wormhole’   ┆ Wormhole, a ┆ finbold.com ┆ 2021-08-09  ┆ https://cry ┆ ETH,SOL    │\n",
       "│              ┆ protocol     ┆ cross-chain ┆             ┆ 19:44:29    ┆ ptopanic.co ┆            │\n",
       "│              ┆ goes live,…  ┆ messag…     ┆             ┆             ┆ m/news/t…   ┆            │\n",
       "│ 148259       ┆ Cardano      ┆ Cardano     ┆ bitcoinist. ┆ 2023-12-21  ┆ https://cry ┆ ADA        │\n",
       "│              ┆ Founder      ┆ founder     ┆ com         ┆ 19:00:41    ┆ ptopanic.co ┆            │\n",
       "│              ┆ Calls Out    ┆ Charles     ┆             ┆             ┆ m/news/1…   ┆            │\n",
       "│              ┆ Omis…        ┆ Hoskin…     ┆             ┆             ┆             ┆            │\n",
       "└──────────────┴──────────────┴─────────────┴─────────────┴─────────────┴─────────────┴────────────┘"
      ]
     },
     "execution_count": 2,
     "metadata": {},
     "output_type": "execute_result"
    }
   ],
   "source": [
    "import polars as pl\n",
    "\n",
    "cryptopanic_news = pl.read_parquet(\n",
    "    f\"{CLEAN_DATA_FOLDER}/cryptopanic_news_light_normalized.parquet\"\n",
    ")\n",
    "\n",
    "cryptopanic_news"
   ]
  },
  {
   "cell_type": "code",
   "execution_count": 3,
   "id": "4ef6988b",
   "metadata": {},
   "outputs": [
    {
     "data": {
      "text/plain": [
       "Schema([('cryptopanic_id', Int64),\n",
       "        ('title', String),\n",
       "        ('description', String),\n",
       "        ('source_domain', String),\n",
       "        ('published_at', Datetime(time_unit='us', time_zone=None)),\n",
       "        ('cryptopanic_url', String),\n",
       "        ('currencies', String)])"
      ]
     },
     "execution_count": 3,
     "metadata": {},
     "output_type": "execute_result"
    }
   ],
   "source": [
    "cryptopanic_news.schema"
   ]
  },
  {
   "cell_type": "code",
   "execution_count": 8,
   "id": "b94480e5",
   "metadata": {},
   "outputs": [],
   "source": [
    "import pandas as pd\n",
    "import openai\n",
    "import ast\n",
    "import concurrent.futures\n",
    "from tqdm import tqdm\n",
    "import tiktoken\n",
    "import os\n",
    "import time\n",
    "from collections import deque\n",
    "from datetime import datetime, timedelta, timezone\n",
    "\n",
    "API_KEY = os.getenv(\"OPENAI_API_KEY\")\n",
    "\n",
    "client = openai.Client(api_key=API_KEY)\n",
    "\n",
    "MODEL = \"gpt-4.1-nano\"\n",
    "ENCODING = tiktoken.encoding_for_model(\"gpt-4\")\n",
    "MAX_TOKENS = 8000  # Safe margin\n",
    "\n",
    "MAX_TOKENS_PER_MINUTE = 200_000\n",
    "\n",
    "SYSTEM_PROMPT = (\n",
    "    \"You are an expert financial news sentiment classifier specializing in cryptocurrencies. \"\n",
    "    \"Your job is to assess whether each news item is likely to have a Positive, Neutral, or Negative \"\n",
    "    \"impact on the mentioned cryptocurrencies. Consider market context and how crypto investors might respond.\"\n",
    ")\n",
    "\n",
    "PROMPT_PREFIX = (\n",
    "    \"You are a financial news sentiment classifier specializing in \"\n",
    "    \"cryptocurrencies. Classify the sentiment (Positive, Neutral, Negative) \"\n",
    "    \"for the following cryptocurrency news articles. Consider the impact on \"\n",
    "    \"the mentioned cryptocurrencies in the context of the news.\\n\\n\"\n",
    ")\n",
    "\n",
    "PROMPT_SUFFIX = (\n",
    "    \"Respond with a list of sentiment labels only in order \"\n",
    "    \"(e.g., ['Positive', 'Neutral', ...]).\"\n",
    ")\n",
    "\n",
    "RESERVED_RESPONSE_TOKENS = 1000 \n",
    "token_usage_log = deque()"
   ]
  },
  {
   "cell_type": "code",
   "execution_count": 9,
   "id": "29a3f612",
   "metadata": {},
   "outputs": [],
   "source": [
    "def count_tokens(text: str) -> int:\n",
    "    return len(ENCODING.encode(text))\n",
    "\n",
    "def rate_limited_request(prompt: str, model: str = MODEL, max_tokens: int = RESERVED_RESPONSE_TOKENS):\n",
    "    global token_usage_log\n",
    "\n",
    "    # Calculate tokens used in the prompt + expected response\n",
    "    tokens_used = count_tokens(prompt) + max_tokens\n",
    "\n",
    "    # Clean up old entries (older than 60 seconds)\n",
    "    now = datetime.now(timezone.utc)\n",
    "    one_minute_ago = now - timedelta(seconds=60)\n",
    "    while token_usage_log and token_usage_log[0][0] < one_minute_ago:\n",
    "        token_usage_log.popleft()\n",
    "\n",
    "    # Sum tokens used in the last 60 seconds\n",
    "    tokens_last_minute = sum(t for ts, t in token_usage_log)\n",
    "\n",
    "    # Wait if we're over the limit\n",
    "    if tokens_last_minute + tokens_used > MAX_TOKENS_PER_MINUTE:\n",
    "        wait_time = (token_usage_log[0][0] + timedelta(seconds=60) - now).total_seconds()\n",
    "        print(f\"[Rate Limit] Sleeping for {wait_time:.2f} seconds...\")\n",
    "        time.sleep(wait_time)\n",
    "\n",
    "    # Make the API call\n",
    "    try:\n",
    "        response = client.chat.completions.create(\n",
    "            model=model,\n",
    "            messages=[\n",
    "                {\"role\": \"system\", \"content\": SYSTEM_PROMPT},\n",
    "                {\"role\": \"user\", \"content\": prompt}\n",
    "            ],\n",
    "            max_tokens=max_tokens,\n",
    "            temperature=0.2,\n",
    "        )\n",
    "        # Log token usage\n",
    "        token_usage_log.append((datetime.now(timezone.utc), tokens_used))\n",
    "        return response\n",
    "    except Exception as e:\n",
    "        print(f\"Error during request: {e}\")\n",
    "        time.sleep(20)\n",
    "        return None\n",
    "\n",
    "def split_dataframe_by_token_limit(df: pd.DataFrame, token_limit: int = MAX_TOKENS - RESERVED_RESPONSE_TOKENS):\n",
    "    batches = []\n",
    "    current_batch = []\n",
    "    static_token_cost = count_tokens(PROMPT_PREFIX) + count_tokens(PROMPT_SUFFIX)\n",
    "    current_token_count = static_token_cost\n",
    "\n",
    "    for idx, row in df.iterrows():\n",
    "        row_text = (\n",
    "            f\"{idx}. Title: {row['title']}\\n\"\n",
    "            f\"Description: {row['description']}\\n\"\n",
    "            f\"Currencies: {row.get('currencies', 'N/A')}\\n\\n\"\n",
    "        )\n",
    "        row_tokens = count_tokens(row_text)\n",
    "\n",
    "        if current_token_count + row_tokens > token_limit:\n",
    "            if current_batch:\n",
    "                batches.append(pd.DataFrame(current_batch))\n",
    "            current_batch = [row.to_dict()]\n",
    "            current_token_count = static_token_cost + row_tokens\n",
    "        else:\n",
    "            current_batch.append(row.to_dict())\n",
    "            current_token_count += row_tokens\n",
    "\n",
    "    if current_batch:\n",
    "        batches.append(pd.DataFrame(current_batch))\n",
    "\n",
    "    return batches\n",
    "\n",
    "def create_batch_prompt(batch: pd.DataFrame) -> str:\n",
    "    prompt = PROMPT_PREFIX\n",
    "    for idx, row in batch.iterrows():\n",
    "        prompt += (\n",
    "            f\"{idx}. Title: {row['title']}\\n\"\n",
    "            f\"Description: {row['description']}\\n\"\n",
    "            f\"Currencies: {row.get('currencies', 'N/A')}\\n\\n\"\n",
    "        )\n",
    "    prompt += PROMPT_SUFFIX\n",
    "    return prompt\n",
    "\n",
    "def classify_sentiment(batch: pd.DataFrame) -> list:\n",
    "    prompt = create_batch_prompt(batch)\n",
    "    response = rate_limited_request(prompt)\n",
    "\n",
    "    if response is None:\n",
    "        return [\"Error\"] * len(batch)\n",
    "\n",
    "    try:\n",
    "        content = response.choices[0].message.content.strip()\n",
    "        sentiment_list = ast.literal_eval(content)\n",
    "        return sentiment_list\n",
    "    except Exception as e:\n",
    "        print(f\"Error parsing response: {e}\")\n",
    "        return [\"Error\"] * len(batch)\n",
    "    \n",
    "def process_all_batches(df: pd.DataFrame, max_workers: int = 4):\n",
    "    results = []\n",
    "    batches = split_dataframe_by_token_limit(df)\n",
    "\n",
    "    with concurrent.futures.ThreadPoolExecutor(max_workers=max_workers) as executor:\n",
    "        futures = [executor.submit(classify_sentiment, batch) for batch in batches]\n",
    "        for future in tqdm(concurrent.futures.as_completed(futures), total=len(futures)):\n",
    "            results.extend(future.result())\n",
    "\n",
    "    df = df.iloc[:len(results)].copy()\n",
    "    df['sentiment'] = results\n",
    "    return df"
   ]
  },
  {
   "cell_type": "code",
   "execution_count": 10,
   "id": "00af4d62",
   "metadata": {},
   "outputs": [
    {
     "name": "stderr",
     "output_type": "stream",
     "text": [
      "  9%|▊         | 25/290 [00:12<01:49,  2.41it/s]"
     ]
    },
    {
     "name": "stdout",
     "output_type": "stream",
     "text": [
      "[Rate Limit] Sleeping for 49.04 seconds...\n"
     ]
    },
    {
     "name": "stderr",
     "output_type": "stream",
     "text": [
      "  9%|▉         | 26/290 [00:13<02:04,  2.12it/s]"
     ]
    },
    {
     "name": "stdout",
     "output_type": "stream",
     "text": [
      "[Rate Limit] Sleeping for 48.33 seconds...\n",
      "[Rate Limit] Sleeping for 48.33 seconds...\n",
      "[Rate Limit] Sleeping for 48.33 seconds...\n"
     ]
    },
    {
     "name": "stderr",
     "output_type": "stream",
     "text": [
      " 10%|█         | 29/290 [00:14<01:36,  2.71it/s]"
     ]
    },
    {
     "name": "stdout",
     "output_type": "stream",
     "text": [
      "[Rate Limit] Sleeping for 47.59 seconds...\n"
     ]
    },
    {
     "name": "stderr",
     "output_type": "stream",
     "text": [
      " 10%|█         | 30/290 [00:14<01:36,  2.69it/s]"
     ]
    },
    {
     "name": "stdout",
     "output_type": "stream",
     "text": [
      "[Rate Limit] Sleeping for 47.21 seconds...\n"
     ]
    },
    {
     "name": "stderr",
     "output_type": "stream",
     "text": [
      " 11%|█         | 31/290 [01:03<44:39, 10.35s/it]"
     ]
    },
    {
     "name": "stdout",
     "output_type": "stream",
     "text": [
      "[Rate Limit] Sleeping for 0.18 seconds...\n"
     ]
    },
    {
     "name": "stderr",
     "output_type": "stream",
     "text": [
      " 11%|█▏        | 33/290 [01:04<26:17,  6.14s/it]"
     ]
    },
    {
     "name": "stdout",
     "output_type": "stream",
     "text": [
      "[Rate Limit] Sleeping for 0.81 seconds...\n",
      "[Rate Limit] Sleeping for 0.64 seconds...\n"
     ]
    },
    {
     "name": "stderr",
     "output_type": "stream",
     "text": [
      " 12%|█▏        | 34/290 [01:04<19:40,  4.61s/it]"
     ]
    },
    {
     "name": "stdout",
     "output_type": "stream",
     "text": [
      "[Rate Limit] Sleeping for 0.40 seconds...\n"
     ]
    },
    {
     "name": "stderr",
     "output_type": "stream",
     "text": [
      " 12%|█▏        | 35/290 [01:04<14:47,  3.48s/it]"
     ]
    },
    {
     "name": "stdout",
     "output_type": "stream",
     "text": [
      "[Rate Limit] Sleeping for 1.00 seconds...\n"
     ]
    },
    {
     "name": "stderr",
     "output_type": "stream",
     "text": [
      " 12%|█▏        | 36/290 [01:05<11:14,  2.66s/it]"
     ]
    },
    {
     "name": "stdout",
     "output_type": "stream",
     "text": [
      "[Rate Limit] Sleeping for 0.48 seconds...\n"
     ]
    },
    {
     "name": "stderr",
     "output_type": "stream",
     "text": [
      " 13%|█▎        | 37/290 [01:06<08:59,  2.13s/it]"
     ]
    },
    {
     "name": "stdout",
     "output_type": "stream",
     "text": [
      "[Rate Limit] Sleeping for 0.08 seconds...\n"
     ]
    },
    {
     "name": "stderr",
     "output_type": "stream",
     "text": [
      " 13%|█▎        | 38/290 [01:07<07:26,  1.77s/it]"
     ]
    },
    {
     "name": "stdout",
     "output_type": "stream",
     "text": [
      "[Rate Limit] Sleeping for 0.42 seconds...\n"
     ]
    },
    {
     "name": "stderr",
     "output_type": "stream",
     "text": [
      " 13%|█▎        | 39/290 [01:07<05:33,  1.33s/it]"
     ]
    },
    {
     "name": "stdout",
     "output_type": "stream",
     "text": [
      "Error parsing response: invalid syntax (<unknown>, line 2)\n",
      "[Rate Limit] Sleeping for 0.17 seconds...\n"
     ]
    },
    {
     "name": "stderr",
     "output_type": "stream",
     "text": [
      " 14%|█▍        | 40/290 [01:07<04:11,  1.01s/it]"
     ]
    },
    {
     "name": "stdout",
     "output_type": "stream",
     "text": [
      "[Rate Limit] Sleeping for 0.85 seconds...\n"
     ]
    },
    {
     "name": "stderr",
     "output_type": "stream",
     "text": [
      " 14%|█▍        | 41/290 [01:07<03:15,  1.28it/s]"
     ]
    },
    {
     "name": "stdout",
     "output_type": "stream",
     "text": [
      "[Rate Limit] Sleeping for 0.60 seconds...\n",
      "[Rate Limit] Sleeping for 0.55 seconds...\n"
     ]
    },
    {
     "name": "stderr",
     "output_type": "stream",
     "text": [
      " 15%|█▍        | 43/290 [01:08<02:42,  1.52it/s]"
     ]
    },
    {
     "name": "stdout",
     "output_type": "stream",
     "text": [
      "[Rate Limit] Sleeping for 0.15 seconds...\n"
     ]
    },
    {
     "name": "stderr",
     "output_type": "stream",
     "text": [
      " 15%|█▌        | 44/290 [01:09<02:51,  1.43it/s]"
     ]
    },
    {
     "name": "stdout",
     "output_type": "stream",
     "text": [
      "[Rate Limit] Sleeping for 0.29 seconds...\n"
     ]
    },
    {
     "name": "stderr",
     "output_type": "stream",
     "text": [
      " 16%|█▌        | 46/290 [01:10<02:07,  1.91it/s]"
     ]
    },
    {
     "name": "stdout",
     "output_type": "stream",
     "text": [
      "[Rate Limit] Sleeping for 0.09 seconds...\n",
      "[Rate Limit] Sleeping for 0.72 seconds...\n"
     ]
    },
    {
     "name": "stderr",
     "output_type": "stream",
     "text": [
      " 16%|█▌        | 47/290 [01:10<01:41,  2.40it/s]"
     ]
    },
    {
     "name": "stdout",
     "output_type": "stream",
     "text": [
      "[Rate Limit] Sleeping for 0.58 seconds...\n"
     ]
    },
    {
     "name": "stderr",
     "output_type": "stream",
     "text": [
      " 17%|█▋        | 48/290 [01:11<02:04,  1.95it/s]"
     ]
    },
    {
     "name": "stdout",
     "output_type": "stream",
     "text": [
      "[Rate Limit] Sleeping for 1.09 seconds...\n"
     ]
    },
    {
     "name": "stderr",
     "output_type": "stream",
     "text": [
      " 17%|█▋        | 49/290 [01:12<02:21,  1.71it/s]"
     ]
    },
    {
     "name": "stdout",
     "output_type": "stream",
     "text": [
      "[Rate Limit] Sleeping for 0.33 seconds...\n",
      "[Rate Limit] Sleeping for 0.25 seconds...\n"
     ]
    },
    {
     "name": "stderr",
     "output_type": "stream",
     "text": [
      " 18%|█▊        | 51/290 [01:13<02:06,  1.89it/s]"
     ]
    },
    {
     "name": "stdout",
     "output_type": "stream",
     "text": [
      "[Rate Limit] Sleeping for 0.60 seconds...\n"
     ]
    },
    {
     "name": "stderr",
     "output_type": "stream",
     "text": [
      " 18%|█▊        | 52/290 [01:13<01:55,  2.06it/s]"
     ]
    },
    {
     "name": "stdout",
     "output_type": "stream",
     "text": [
      "[Rate Limit] Sleeping for 0.25 seconds...\n"
     ]
    },
    {
     "name": "stderr",
     "output_type": "stream",
     "text": [
      " 18%|█▊        | 53/290 [01:13<01:41,  2.34it/s]"
     ]
    },
    {
     "name": "stdout",
     "output_type": "stream",
     "text": [
      "[Rate Limit] Sleeping for 0.73 seconds...\n"
     ]
    },
    {
     "name": "stderr",
     "output_type": "stream",
     "text": [
      " 19%|█▊        | 54/290 [01:14<01:50,  2.13it/s]"
     ]
    },
    {
     "name": "stdout",
     "output_type": "stream",
     "text": [
      "[Rate Limit] Sleeping for 0.15 seconds...\n"
     ]
    },
    {
     "name": "stderr",
     "output_type": "stream",
     "text": [
      " 19%|█▉        | 55/290 [01:14<01:55,  2.04it/s]"
     ]
    },
    {
     "name": "stdout",
     "output_type": "stream",
     "text": [
      "[Rate Limit] Sleeping for 49.06 seconds...\n"
     ]
    },
    {
     "name": "stderr",
     "output_type": "stream",
     "text": [
      " 19%|█▉        | 56/290 [01:15<01:35,  2.44it/s]"
     ]
    },
    {
     "name": "stdout",
     "output_type": "stream",
     "text": [
      "[Rate Limit] Sleeping for 48.85 seconds...\n"
     ]
    },
    {
     "name": "stderr",
     "output_type": "stream",
     "text": [
      " 20%|█▉        | 57/290 [01:16<02:23,  1.62it/s]"
     ]
    },
    {
     "name": "stdout",
     "output_type": "stream",
     "text": [
      "[Rate Limit] Sleeping for 47.72 seconds...\n",
      "[Rate Limit] Sleeping for 47.72 seconds...\n"
     ]
    },
    {
     "name": "stderr",
     "output_type": "stream",
     "text": [
      " 20%|██        | 59/290 [01:16<01:39,  2.32it/s]"
     ]
    },
    {
     "name": "stdout",
     "output_type": "stream",
     "text": [
      "[Rate Limit] Sleeping for 47.31 seconds...\n"
     ]
    },
    {
     "name": "stderr",
     "output_type": "stream",
     "text": [
      " 21%|██        | 60/290 [01:17<01:49,  2.10it/s]"
     ]
    },
    {
     "name": "stdout",
     "output_type": "stream",
     "text": [
      "[Rate Limit] Sleeping for 46.69 seconds...\n"
     ]
    },
    {
     "name": "stderr",
     "output_type": "stream",
     "text": [
      " 21%|██        | 61/290 [02:06<49:32, 12.98s/it]"
     ]
    },
    {
     "name": "stdout",
     "output_type": "stream",
     "text": [
      "[Rate Limit] Sleeping for 0.30 seconds...\n",
      "[Rate Limit] Sleeping for 0.30 seconds...\n"
     ]
    },
    {
     "name": "stderr",
     "output_type": "stream",
     "text": [
      " 22%|██▏       | 65/290 [02:06<17:36,  4.70s/it]"
     ]
    },
    {
     "name": "stdout",
     "output_type": "stream",
     "text": [
      "[Rate Limit] Sleeping for 0.10 seconds...\n",
      "[Rate Limit] Sleeping for 0.08 seconds...\n",
      "[Rate Limit] Sleeping for 0.86 seconds...\n"
     ]
    },
    {
     "name": "stderr",
     "output_type": "stream",
     "text": [
      " 23%|██▎       | 66/290 [02:07<14:30,  3.88s/it]"
     ]
    },
    {
     "name": "stdout",
     "output_type": "stream",
     "text": [
      "[Rate Limit] Sleeping for 0.24 seconds...\n"
     ]
    },
    {
     "name": "stderr",
     "output_type": "stream",
     "text": [
      " 23%|██▎       | 67/290 [02:08<12:04,  3.25s/it]"
     ]
    },
    {
     "name": "stdout",
     "output_type": "stream",
     "text": [
      "[Rate Limit] Sleeping for 0.60 seconds...\n",
      "[Rate Limit] Sleeping for 0.53 seconds...\n"
     ]
    },
    {
     "name": "stderr",
     "output_type": "stream",
     "text": [
      " 24%|██▍       | 69/290 [02:08<07:28,  2.03s/it]"
     ]
    },
    {
     "name": "stdout",
     "output_type": "stream",
     "text": [
      "[Rate Limit] Sleeping for 0.20 seconds...\n"
     ]
    },
    {
     "name": "stderr",
     "output_type": "stream",
     "text": [
      " 24%|██▍       | 70/290 [02:09<05:59,  1.63s/it]"
     ]
    },
    {
     "name": "stdout",
     "output_type": "stream",
     "text": [
      "[Rate Limit] Sleeping for 0.77 seconds...\n"
     ]
    },
    {
     "name": "stderr",
     "output_type": "stream",
     "text": [
      " 24%|██▍       | 71/290 [02:09<04:46,  1.31s/it]"
     ]
    },
    {
     "name": "stdout",
     "output_type": "stream",
     "text": [
      "[Rate Limit] Sleeping for 0.50 seconds...\n"
     ]
    },
    {
     "name": "stderr",
     "output_type": "stream",
     "text": [
      " 25%|██▍       | 72/290 [02:10<04:17,  1.18s/it]"
     ]
    },
    {
     "name": "stdout",
     "output_type": "stream",
     "text": [
      "[Rate Limit] Sleeping for 0.19 seconds...\n"
     ]
    },
    {
     "name": "stderr",
     "output_type": "stream",
     "text": [
      " 25%|██▌       | 73/290 [02:11<04:01,  1.11s/it]"
     ]
    },
    {
     "name": "stdout",
     "output_type": "stream",
     "text": [
      "[Rate Limit] Sleeping for 0.35 seconds...\n",
      "[Rate Limit] Sleeping for 0.27 seconds...\n"
     ]
    },
    {
     "name": "stderr",
     "output_type": "stream",
     "text": [
      " 26%|██▌       | 75/290 [02:11<02:44,  1.31it/s]"
     ]
    },
    {
     "name": "stdout",
     "output_type": "stream",
     "text": [
      "[Rate Limit] Sleeping for 0.50 seconds...\n"
     ]
    },
    {
     "name": "stderr",
     "output_type": "stream",
     "text": [
      " 27%|██▋       | 78/290 [02:12<01:31,  2.32it/s]"
     ]
    },
    {
     "name": "stdout",
     "output_type": "stream",
     "text": [
      "[Rate Limit] Sleeping for 0.08 seconds...\n",
      "[Rate Limit] Sleeping for 0.07 seconds...\n",
      "[Rate Limit] Sleeping for 0.04 seconds...\n"
     ]
    },
    {
     "name": "stderr",
     "output_type": "stream",
     "text": [
      " 27%|██▋       | 79/290 [02:13<02:29,  1.41it/s]"
     ]
    },
    {
     "name": "stdout",
     "output_type": "stream",
     "text": [
      "[Rate Limit] Sleeping for 0.41 seconds...\n",
      "[Rate Limit] Sleeping for 0.33 seconds...\n"
     ]
    },
    {
     "name": "stderr",
     "output_type": "stream",
     "text": [
      " 29%|██▊       | 83/290 [02:14<01:10,  2.93it/s]"
     ]
    },
    {
     "name": "stdout",
     "output_type": "stream",
     "text": [
      "[Rate Limit] Sleeping for 0.11 seconds...\n",
      "[Rate Limit] Sleeping for 0.06 seconds...\n",
      "[Rate Limit] Sleeping for 0.51 seconds...\n",
      "[Rate Limit] Sleeping for 0.42 seconds...\n"
     ]
    },
    {
     "name": "stderr",
     "output_type": "stream",
     "text": [
      " 29%|██▉       | 85/290 [02:16<01:50,  1.86it/s]"
     ]
    },
    {
     "name": "stdout",
     "output_type": "stream",
     "text": [
      "[Rate Limit] Sleeping for 0.41 seconds...\n"
     ]
    },
    {
     "name": "stderr",
     "output_type": "stream",
     "text": [
      " 30%|██▉       | 86/290 [02:16<01:39,  2.05it/s]"
     ]
    },
    {
     "name": "stdout",
     "output_type": "stream",
     "text": [
      "[Rate Limit] Sleeping for 0.12 seconds...\n",
      "[Rate Limit] Sleeping for 0.09 seconds...\n"
     ]
    },
    {
     "name": "stderr",
     "output_type": "stream",
     "text": [
      " 30%|███       | 88/290 [02:16<01:22,  2.44it/s]"
     ]
    },
    {
     "name": "stdout",
     "output_type": "stream",
     "text": [
      "[Rate Limit] Sleeping for 0.20 seconds...[Rate Limit] Sleeping for 0.20 seconds...\n",
      "\n"
     ]
    },
    {
     "name": "stderr",
     "output_type": "stream",
     "text": [
      " 31%|███       | 90/290 [02:17<01:15,  2.66it/s]"
     ]
    },
    {
     "name": "stdout",
     "output_type": "stream",
     "text": [
      "[Rate Limit] Sleeping for 48.42 seconds...\n"
     ]
    },
    {
     "name": "stderr",
     "output_type": "stream",
     "text": [
      " 31%|███▏      | 91/290 [02:18<01:43,  1.92it/s]"
     ]
    },
    {
     "name": "stdout",
     "output_type": "stream",
     "text": [
      "[Rate Limit] Sleeping for 47.29 seconds...\n",
      "[Rate Limit] Sleeping for 47.29 seconds...\n"
     ]
    },
    {
     "name": "stderr",
     "output_type": "stream",
     "text": [
      " 32%|███▏      | 94/290 [02:19<01:06,  2.94it/s]"
     ]
    },
    {
     "name": "stdout",
     "output_type": "stream",
     "text": [
      "[Rate Limit] Sleeping for 46.93 seconds...\n",
      "[Rate Limit] Sleeping for 46.83 seconds...\n"
     ]
    },
    {
     "name": "stderr",
     "output_type": "stream",
     "text": [
      " 33%|███▎      | 95/290 [02:19<01:02,  3.14it/s]"
     ]
    },
    {
     "name": "stdout",
     "output_type": "stream",
     "text": [
      "[Rate Limit] Sleeping for 46.58 seconds...\n"
     ]
    },
    {
     "name": "stderr",
     "output_type": "stream",
     "text": [
      " 33%|███▎      | 96/290 [03:08<39:06, 12.10s/it]"
     ]
    },
    {
     "name": "stdout",
     "output_type": "stream",
     "text": [
      "[Rate Limit] Sleeping for 0.20 seconds...[Rate Limit] Sleeping for 0.20 seconds...\n",
      "\n"
     ]
    },
    {
     "name": "stderr",
     "output_type": "stream",
     "text": [
      " 34%|███▍      | 99/290 [03:08<17:58,  5.65s/it]"
     ]
    },
    {
     "name": "stdout",
     "output_type": "stream",
     "text": [
      "[Rate Limit] Sleeping for 0.23 seconds...\n",
      "[Rate Limit] Sleeping for 0.10 seconds...\n",
      "[Rate Limit] Sleeping for 0.06 seconds...\n"
     ]
    },
    {
     "name": "stderr",
     "output_type": "stream",
     "text": [
      " 35%|███▍      | 101/290 [03:09<11:02,  3.50s/it]"
     ]
    },
    {
     "name": "stdout",
     "output_type": "stream",
     "text": [
      "[Rate Limit] Sleeping for 0.81 seconds...\n"
     ]
    },
    {
     "name": "stderr",
     "output_type": "stream",
     "text": [
      " 35%|███▌      | 102/290 [03:10<09:12,  2.94s/it]"
     ]
    },
    {
     "name": "stdout",
     "output_type": "stream",
     "text": [
      "[Rate Limit] Sleeping for 0.81 seconds...\n"
     ]
    },
    {
     "name": "stderr",
     "output_type": "stream",
     "text": [
      " 36%|███▌      | 103/290 [03:10<07:31,  2.41s/it]"
     ]
    },
    {
     "name": "stdout",
     "output_type": "stream",
     "text": [
      "[Rate Limit] Sleeping for 0.07 seconds...\n"
     ]
    },
    {
     "name": "stderr",
     "output_type": "stream",
     "text": [
      " 36%|███▌      | 105/290 [03:12<04:46,  1.55s/it]"
     ]
    },
    {
     "name": "stdout",
     "output_type": "stream",
     "text": [
      "[Rate Limit] Sleeping for 0.10 seconds...\n",
      "[Rate Limit] Sleeping for 0.06 seconds...\n"
     ]
    },
    {
     "name": "stderr",
     "output_type": "stream",
     "text": [
      " 37%|███▋      | 106/290 [03:12<03:44,  1.22s/it]"
     ]
    },
    {
     "name": "stdout",
     "output_type": "stream",
     "text": [
      "[Rate Limit] Sleeping for 1.38 seconds...\n"
     ]
    },
    {
     "name": "stderr",
     "output_type": "stream",
     "text": [
      " 37%|███▋      | 107/290 [03:13<03:22,  1.11s/it]"
     ]
    },
    {
     "name": "stdout",
     "output_type": "stream",
     "text": [
      "[Rate Limit] Sleeping for 0.56 seconds...\n"
     ]
    },
    {
     "name": "stderr",
     "output_type": "stream",
     "text": [
      " 37%|███▋      | 108/290 [03:13<02:34,  1.18it/s]"
     ]
    },
    {
     "name": "stdout",
     "output_type": "stream",
     "text": [
      "[Rate Limit] Sleeping for 0.35 seconds...\n"
     ]
    },
    {
     "name": "stderr",
     "output_type": "stream",
     "text": [
      " 38%|███▊      | 111/290 [03:14<01:15,  2.37it/s]"
     ]
    },
    {
     "name": "stdout",
     "output_type": "stream",
     "text": [
      "[Rate Limit] Sleeping for 0.05 seconds...\n",
      "[Rate Limit] Sleeping for 0.17 seconds...\n",
      "[Rate Limit] Sleeping for 0.13 seconds...\n"
     ]
    },
    {
     "name": "stderr",
     "output_type": "stream",
     "text": [
      " 39%|███▊      | 112/290 [03:16<02:28,  1.20it/s]"
     ]
    },
    {
     "name": "stdout",
     "output_type": "stream",
     "text": [
      "[Rate Limit] Sleeping for 0.02 seconds...\n",
      "[Rate Limit] Sleeping for 0.25 seconds...\n"
     ]
    },
    {
     "name": "stderr",
     "output_type": "stream",
     "text": [
      " 39%|███▉      | 114/290 [03:16<01:34,  1.87it/s]"
     ]
    },
    {
     "name": "stdout",
     "output_type": "stream",
     "text": [
      "[Rate Limit] Sleeping for 0.08 seconds...\n"
     ]
    },
    {
     "name": "stderr",
     "output_type": "stream",
     "text": [
      " 40%|███▉      | 115/290 [03:17<01:42,  1.71it/s]"
     ]
    },
    {
     "name": "stdout",
     "output_type": "stream",
     "text": [
      "[Rate Limit] Sleeping for 0.48 seconds...\n"
     ]
    },
    {
     "name": "stderr",
     "output_type": "stream",
     "text": [
      " 40%|████      | 116/290 [03:17<01:38,  1.77it/s]"
     ]
    },
    {
     "name": "stdout",
     "output_type": "stream",
     "text": [
      "[Rate Limit] Sleeping for 1.10 seconds...[Rate Limit] Sleeping for 1.10 seconds...\n",
      "\n"
     ]
    },
    {
     "name": "stderr",
     "output_type": "stream",
     "text": [
      " 41%|████      | 118/290 [03:17<01:09,  2.48it/s]"
     ]
    },
    {
     "name": "stdout",
     "output_type": "stream",
     "text": [
      "[Rate Limit] Sleeping for 0.75 seconds...\n"
     ]
    },
    {
     "name": "stderr",
     "output_type": "stream",
     "text": [
      " 41%|████      | 119/290 [03:18<01:05,  2.62it/s]"
     ]
    },
    {
     "name": "stdout",
     "output_type": "stream",
     "text": [
      "[Rate Limit] Sleeping for 0.45 seconds...\n"
     ]
    },
    {
     "name": "stderr",
     "output_type": "stream",
     "text": [
      " 41%|████▏     | 120/290 [03:18<01:02,  2.72it/s]"
     ]
    },
    {
     "name": "stdout",
     "output_type": "stream",
     "text": [
      "[Rate Limit] Sleeping for 0.12 seconds...\n"
     ]
    },
    {
     "name": "stderr",
     "output_type": "stream",
     "text": [
      " 42%|████▏     | 121/290 [03:19<01:41,  1.67it/s]"
     ]
    },
    {
     "name": "stdout",
     "output_type": "stream",
     "text": [
      "[Rate Limit] Sleeping for 48.31 seconds...\n"
     ]
    },
    {
     "name": "stderr",
     "output_type": "stream",
     "text": [
      " 42%|████▏     | 122/290 [03:20<01:27,  1.92it/s]"
     ]
    },
    {
     "name": "stdout",
     "output_type": "stream",
     "text": [
      "Error parsing response: invalid syntax (<unknown>, line 2)\n",
      "[Rate Limit] Sleeping for 48.01 seconds...\n"
     ]
    },
    {
     "name": "stderr",
     "output_type": "stream",
     "text": [
      " 42%|████▏     | 123/290 [03:20<01:19,  2.09it/s]"
     ]
    },
    {
     "name": "stdout",
     "output_type": "stream",
     "text": [
      "[Rate Limit] Sleeping for 47.63 seconds...\n"
     ]
    },
    {
     "name": "stderr",
     "output_type": "stream",
     "text": [
      " 43%|████▎     | 124/290 [03:20<01:08,  2.43it/s]"
     ]
    },
    {
     "name": "stdout",
     "output_type": "stream",
     "text": [
      "[Rate Limit] Sleeping for 47.39 seconds...\n"
     ]
    },
    {
     "name": "stderr",
     "output_type": "stream",
     "text": [
      " 43%|████▎     | 126/290 [03:21<00:50,  3.24it/s]"
     ]
    },
    {
     "name": "stdout",
     "output_type": "stream",
     "text": [
      "[Rate Limit] Sleeping for 47.19 seconds...\n",
      "[Rate Limit] Sleeping for 46.98 seconds...\n"
     ]
    },
    {
     "name": "stderr",
     "output_type": "stream",
     "text": [
      " 44%|████▍     | 127/290 [04:10<39:41, 14.61s/it]"
     ]
    },
    {
     "name": "stdout",
     "output_type": "stream",
     "text": [
      "[Rate Limit] Sleeping for 0.18 seconds...\n"
     ]
    },
    {
     "name": "stderr",
     "output_type": "stream",
     "text": [
      " 45%|████▌     | 131/290 [04:10<12:12,  4.61s/it]"
     ]
    },
    {
     "name": "stdout",
     "output_type": "stream",
     "text": [
      "[Rate Limit] Sleeping for 0.52 seconds...\n",
      "[Rate Limit] Sleeping for 0.48 seconds...\n",
      "[Rate Limit] Sleeping for 0.46 seconds...\n",
      "[Rate Limit] Sleeping for 0.39 seconds...\n"
     ]
    },
    {
     "name": "stderr",
     "output_type": "stream",
     "text": [
      " 46%|████▌     | 132/290 [04:10<09:45,  3.71s/it]"
     ]
    },
    {
     "name": "stdout",
     "output_type": "stream",
     "text": [
      "[Rate Limit] Sleeping for 0.07 seconds...\n"
     ]
    },
    {
     "name": "stderr",
     "output_type": "stream",
     "text": [
      " 46%|████▌     | 133/290 [04:12<08:30,  3.25s/it]"
     ]
    },
    {
     "name": "stdout",
     "output_type": "stream",
     "text": [
      "[Rate Limit] Sleeping for 0.66 seconds...\n"
     ]
    },
    {
     "name": "stderr",
     "output_type": "stream",
     "text": [
      " 46%|████▌     | 134/290 [04:12<06:30,  2.50s/it]"
     ]
    },
    {
     "name": "stdout",
     "output_type": "stream",
     "text": [
      "[Rate Limit] Sleeping for 0.42 seconds...\n"
     ]
    },
    {
     "name": "stderr",
     "output_type": "stream",
     "text": [
      " 47%|████▋     | 137/290 [04:13<02:51,  1.12s/it]"
     ]
    },
    {
     "name": "stdout",
     "output_type": "stream",
     "text": [
      "[Rate Limit] Sleeping for 0.19 seconds...\n",
      "[Rate Limit] Sleeping for 0.11 seconds...\n",
      "[Rate Limit] Sleeping for 0.06 seconds...\n"
     ]
    },
    {
     "name": "stderr",
     "output_type": "stream",
     "text": [
      " 48%|████▊     | 138/290 [04:13<02:23,  1.06it/s]"
     ]
    },
    {
     "name": "stdout",
     "output_type": "stream",
     "text": [
      "[Rate Limit] Sleeping for 0.27 seconds...\n"
     ]
    },
    {
     "name": "stderr",
     "output_type": "stream",
     "text": [
      " 49%|████▉     | 143/290 [04:15<01:13,  1.99it/s]"
     ]
    },
    {
     "name": "stdout",
     "output_type": "stream",
     "text": [
      "[Rate Limit] Sleeping for 0.78 seconds...\n",
      "[Rate Limit] Sleeping for 0.74 seconds...\n",
      "[Rate Limit] Sleeping for 0.73 seconds...\n",
      "[Rate Limit] Sleeping for 0.71 seconds...\n",
      "[Rate Limit] Sleeping for 0.57 seconds...\n"
     ]
    },
    {
     "name": "stderr",
     "output_type": "stream",
     "text": [
      " 50%|████▉     | 144/290 [04:16<01:15,  1.94it/s]"
     ]
    },
    {
     "name": "stdout",
     "output_type": "stream",
     "text": [
      "[Rate Limit] Sleeping for 0.04 seconds...\n"
     ]
    },
    {
     "name": "stderr",
     "output_type": "stream",
     "text": [
      " 51%|█████     | 147/290 [04:18<01:16,  1.86it/s]"
     ]
    },
    {
     "name": "stdout",
     "output_type": "stream",
     "text": [
      "[Rate Limit] Sleeping for 0.18 seconds...\n",
      "[Rate Limit] Sleeping for 0.12 seconds...\n",
      "[Rate Limit] Sleeping for 0.02 seconds...\n",
      "[Rate Limit] Sleeping for 0.28 seconds...\n",
      "[Rate Limit] Sleeping for 0.27 seconds...\n"
     ]
    },
    {
     "name": "stderr",
     "output_type": "stream",
     "text": [
      " 52%|█████▏    | 150/290 [04:18<00:51,  2.73it/s]"
     ]
    },
    {
     "name": "stdout",
     "output_type": "stream",
     "text": [
      "[Rate Limit] Sleeping for 1.17 seconds...\n"
     ]
    },
    {
     "name": "stderr",
     "output_type": "stream",
     "text": [
      " 52%|█████▏    | 151/290 [04:20<01:15,  1.84it/s]"
     ]
    },
    {
     "name": "stdout",
     "output_type": "stream",
     "text": [
      "[Rate Limit] Sleeping for 0.08 seconds...\n"
     ]
    },
    {
     "name": "stderr",
     "output_type": "stream",
     "text": [
      " 52%|█████▏    | 152/290 [04:20<01:07,  2.03it/s]"
     ]
    },
    {
     "name": "stdout",
     "output_type": "stream",
     "text": [
      "Error parsing response: invalid syntax (<unknown>, line 2)\n",
      "[Rate Limit] Sleeping for 0.17 seconds...\n"
     ]
    },
    {
     "name": "stderr",
     "output_type": "stream",
     "text": [
      " 53%|█████▎    | 153/290 [04:20<00:59,  2.32it/s]"
     ]
    },
    {
     "name": "stdout",
     "output_type": "stream",
     "text": [
      "[Rate Limit] Sleeping for 0.20 seconds...\n"
     ]
    },
    {
     "name": "stderr",
     "output_type": "stream",
     "text": [
      " 53%|█████▎    | 154/290 [04:20<00:54,  2.51it/s]"
     ]
    },
    {
     "name": "stdout",
     "output_type": "stream",
     "text": [
      "[Rate Limit] Sleeping for 0.11 seconds...\n",
      "Error during request: Error code: 429 - {'error': {'message': 'Rate limit reached for gpt-4.1-nano in organization org-xNx4bgcMtYDCt9h8gAsxgBbj on tokens per min (TPM): Limit 200000, Used 200000, Requested 7468. Please try again in 2.24s. Visit https://platform.openai.com/account/rate-limits to learn more.', 'type': 'tokens', 'param': None, 'code': 'rate_limit_exceeded'}}\n"
     ]
    },
    {
     "name": "stderr",
     "output_type": "stream",
     "text": [
      " 53%|█████▎    | 155/290 [04:22<01:45,  1.28it/s]"
     ]
    },
    {
     "name": "stdout",
     "output_type": "stream",
     "text": [
      "[Rate Limit] Sleeping for 47.26 seconds...\n"
     ]
    },
    {
     "name": "stderr",
     "output_type": "stream",
     "text": [
      " 54%|█████▍    | 156/290 [04:23<01:31,  1.47it/s]"
     ]
    },
    {
     "name": "stdout",
     "output_type": "stream",
     "text": [
      "[Rate Limit] Sleeping for 46.85 seconds...\n",
      "Error during request: Error code: 429 - {'error': {'message': 'Rate limit reached for gpt-4.1-nano in organization org-xNx4bgcMtYDCt9h8gAsxgBbj on tokens per min (TPM): Limit 200000, Used 194717, Requested 7706. Please try again in 726ms. Visit https://platform.openai.com/account/rate-limits to learn more.', 'type': 'tokens', 'param': None, 'code': 'rate_limit_exceeded'}}\n",
      "Error during request: Error code: 429 - {'error': {'message': 'Rate limit reached for gpt-4.1-nano in organization org-xNx4bgcMtYDCt9h8gAsxgBbj on tokens per min (TPM): Limit 200000, Used 194667, Requested 7363. Please try again in 609ms. Visit https://platform.openai.com/account/rate-limits to learn more.', 'type': 'tokens', 'param': None, 'code': 'rate_limit_exceeded'}}\n",
      "Error during request: Error code: 429 - {'error': {'message': 'Rate limit reached for gpt-4.1-nano in organization org-xNx4bgcMtYDCt9h8gAsxgBbj on tokens per min (TPM): Limit 200000, Used 194454, Requested 7570. Please try again in 607ms. Visit https://platform.openai.com/account/rate-limits to learn more.', 'type': 'tokens', 'param': None, 'code': 'rate_limit_exceeded'}}\n"
     ]
    },
    {
     "name": "stderr",
     "output_type": "stream",
     "text": [
      " 54%|█████▍    | 157/290 [04:41<12:36,  5.69s/it]"
     ]
    },
    {
     "name": "stdout",
     "output_type": "stream",
     "text": [
      "[Rate Limit] Sleeping for 28.02 seconds...\n"
     ]
    },
    {
     "name": "stderr",
     "output_type": "stream",
     "text": [
      " 54%|█████▍    | 158/290 [04:44<10:21,  4.71s/it]"
     ]
    },
    {
     "name": "stdout",
     "output_type": "stream",
     "text": [
      "[Rate Limit] Sleeping for 25.79 seconds...\n",
      "[Rate Limit] Sleeping for 25.77 seconds...\n",
      "[Rate Limit] Sleeping for 25.71 seconds...\n"
     ]
    },
    {
     "name": "stderr",
     "output_type": "stream",
     "text": [
      " 56%|█████▌    | 161/290 [05:11<15:26,  7.18s/it]"
     ]
    },
    {
     "name": "stdout",
     "output_type": "stream",
     "text": [
      "[Rate Limit] Sleeping for 0.75 seconds...\n"
     ]
    },
    {
     "name": "stderr",
     "output_type": "stream",
     "text": [
      " 57%|█████▋    | 164/290 [05:12<07:44,  3.68s/it]"
     ]
    },
    {
     "name": "stdout",
     "output_type": "stream",
     "text": [
      "[Rate Limit] Sleeping for 0.13 seconds...\n",
      "[Rate Limit] Sleeping for 0.06 seconds...\n",
      "[Rate Limit] Sleeping for 0.24 seconds...\n",
      "[Rate Limit] Sleeping for 0.23 seconds...\n",
      "[Rate Limit] Sleeping for 0.16 seconds...\n"
     ]
    },
    {
     "name": "stderr",
     "output_type": "stream",
     "text": [
      " 58%|█████▊    | 167/290 [05:14<04:47,  2.33s/it]"
     ]
    },
    {
     "name": "stdout",
     "output_type": "stream",
     "text": [
      "[Rate Limit] Sleeping for 0.80 seconds...\n"
     ]
    },
    {
     "name": "stderr",
     "output_type": "stream",
     "text": [
      " 58%|█████▊    | 168/290 [05:14<03:59,  1.97s/it]"
     ]
    },
    {
     "name": "stdout",
     "output_type": "stream",
     "text": [
      "[Rate Limit] Sleeping for 0.58 seconds...\n",
      "[Rate Limit] Sleeping for 0.52 seconds...\n",
      "[Rate Limit] Sleeping for 0.51 seconds...\n"
     ]
    },
    {
     "name": "stderr",
     "output_type": "stream",
     "text": [
      " 59%|█████▉    | 171/290 [05:15<02:22,  1.19s/it]"
     ]
    },
    {
     "name": "stdout",
     "output_type": "stream",
     "text": [
      "[Rate Limit] Sleeping for 0.09 seconds...\n",
      "[Rate Limit] Sleeping for 0.01 seconds...\n"
     ]
    },
    {
     "name": "stderr",
     "output_type": "stream",
     "text": [
      " 60%|██████    | 174/290 [05:17<01:59,  1.03s/it]"
     ]
    },
    {
     "name": "stdout",
     "output_type": "stream",
     "text": [
      "[Rate Limit] Sleeping for 0.35 seconds...\n",
      "[Rate Limit] Sleeping for 0.15 seconds...\n",
      "[Rate Limit] Sleeping for 0.10 seconds...\n"
     ]
    },
    {
     "name": "stderr",
     "output_type": "stream",
     "text": [
      " 61%|██████    | 176/290 [05:18<01:22,  1.37it/s]"
     ]
    },
    {
     "name": "stdout",
     "output_type": "stream",
     "text": [
      "[Rate Limit] Sleeping for 0.01 seconds...\n"
     ]
    },
    {
     "name": "stderr",
     "output_type": "stream",
     "text": [
      " 61%|██████    | 177/290 [05:18<01:13,  1.54it/s]"
     ]
    },
    {
     "name": "stdout",
     "output_type": "stream",
     "text": [
      "[Rate Limit] Sleeping for 0.19 seconds...\n"
     ]
    },
    {
     "name": "stderr",
     "output_type": "stream",
     "text": [
      " 62%|██████▏   | 180/290 [05:20<01:04,  1.69it/s]"
     ]
    },
    {
     "name": "stdout",
     "output_type": "stream",
     "text": [
      "[Rate Limit] Sleeping for 0.14 seconds...\n"
     ]
    },
    {
     "name": "stderr",
     "output_type": "stream",
     "text": [
      " 62%|██████▏   | 181/290 [05:20<00:58,  1.87it/s]"
     ]
    },
    {
     "name": "stdout",
     "output_type": "stream",
     "text": [
      "[Rate Limit] Sleeping for 0.02 seconds...\n"
     ]
    },
    {
     "name": "stderr",
     "output_type": "stream",
     "text": [
      " 63%|██████▎   | 182/290 [05:20<00:50,  2.15it/s]"
     ]
    },
    {
     "name": "stdout",
     "output_type": "stream",
     "text": [
      "[Rate Limit] Sleeping for 0.07 seconds...\n",
      "[Rate Limit] Sleeping for 0.07 seconds...\n",
      "[Rate Limit] Sleeping for 0.05 seconds...\n"
     ]
    },
    {
     "name": "stderr",
     "output_type": "stream",
     "text": [
      " 64%|██████▍   | 185/290 [05:23<01:04,  1.64it/s]"
     ]
    },
    {
     "name": "stdout",
     "output_type": "stream",
     "text": [
      "[Rate Limit] Sleeping for 0.12 seconds...\n",
      "[Rate Limit] Sleeping for 0.12 seconds...\n"
     ]
    },
    {
     "name": "stderr",
     "output_type": "stream",
     "text": [
      " 65%|██████▍   | 188/290 [05:23<00:40,  2.50it/s]"
     ]
    },
    {
     "name": "stdout",
     "output_type": "stream",
     "text": [
      "[Rate Limit] Sleeping for 48.48 seconds...\n",
      "[Rate Limit] Sleeping for 48.37 seconds...\n"
     ]
    },
    {
     "name": "stderr",
     "output_type": "stream",
     "text": [
      " 65%|██████▌   | 189/290 [05:23<00:40,  2.50it/s]"
     ]
    },
    {
     "name": "stdout",
     "output_type": "stream",
     "text": [
      "[Rate Limit] Sleeping for 47.97 seconds...\n",
      "Error during request: Error code: 429 - {'error': {'message': 'Rate limit reached for gpt-4.1-nano in organization org-xNx4bgcMtYDCt9h8gAsxgBbj on tokens per min (TPM): Limit 200000, Used 195342, Requested 7459. Please try again in 840ms. Visit https://platform.openai.com/account/rate-limits to learn more.', 'type': 'tokens', 'param': None, 'code': 'rate_limit_exceeded'}}\n"
     ]
    },
    {
     "name": "stderr",
     "output_type": "stream",
     "text": [
      " 66%|██████▌   | 190/290 [05:27<01:58,  1.18s/it]"
     ]
    },
    {
     "name": "stdout",
     "output_type": "stream",
     "text": [
      "[Rate Limit] Sleeping for 44.21 seconds...\n"
     ]
    },
    {
     "name": "stderr",
     "output_type": "stream",
     "text": [
      " 66%|██████▌   | 191/290 [05:28<01:40,  1.01s/it]"
     ]
    },
    {
     "name": "stdout",
     "output_type": "stream",
     "text": [
      "[Rate Limit] Sleeping for 43.71 seconds...\n"
     ]
    },
    {
     "name": "stderr",
     "output_type": "stream",
     "text": [
      " 66%|██████▌   | 192/290 [05:44<08:02,  4.92s/it]"
     ]
    },
    {
     "name": "stdout",
     "output_type": "stream",
     "text": [
      "[Rate Limit] Sleeping for 27.82 seconds...\n"
     ]
    },
    {
     "name": "stderr",
     "output_type": "stream",
     "text": [
      " 67%|██████▋   | 193/290 [06:13<18:56, 11.71s/it]"
     ]
    },
    {
     "name": "stdout",
     "output_type": "stream",
     "text": [
      "[Rate Limit] Sleeping for 0.71 seconds...\n",
      "[Rate Limit] Sleeping for 0.71 seconds...\n"
     ]
    },
    {
     "name": "stderr",
     "output_type": "stream",
     "text": [
      " 67%|██████▋   | 195/290 [06:14<10:33,  6.67s/it]"
     ]
    },
    {
     "name": "stdout",
     "output_type": "stream",
     "text": [
      "[Rate Limit] Sleeping for 0.31 seconds...\n",
      "[Rate Limit] Sleeping for 0.24 seconds...\n"
     ]
    },
    {
     "name": "stderr",
     "output_type": "stream",
     "text": [
      " 68%|██████▊   | 197/290 [06:14<06:32,  4.22s/it]"
     ]
    },
    {
     "name": "stdout",
     "output_type": "stream",
     "text": [
      "[Rate Limit] Sleeping for 0.40 seconds...\n",
      "[Rate Limit] Sleeping for 0.37 seconds...\n"
     ]
    },
    {
     "name": "stderr",
     "output_type": "stream",
     "text": [
      " 69%|██████▊   | 199/290 [06:16<04:30,  2.98s/it]"
     ]
    },
    {
     "name": "stdout",
     "output_type": "stream",
     "text": [
      "[Rate Limit] Sleeping for 1.42 seconds...\n"
     ]
    },
    {
     "name": "stderr",
     "output_type": "stream",
     "text": [
      " 69%|██████▉   | 200/290 [06:17<03:50,  2.56s/it]"
     ]
    },
    {
     "name": "stdout",
     "output_type": "stream",
     "text": [
      "[Rate Limit] Sleeping for 0.53 seconds...[Rate Limit] Sleeping for 0.53 seconds...\n",
      "\n"
     ]
    },
    {
     "name": "stderr",
     "output_type": "stream",
     "text": [
      " 70%|██████▉   | 202/290 [06:17<02:31,  1.72s/it]"
     ]
    },
    {
     "name": "stdout",
     "output_type": "stream",
     "text": [
      "[Rate Limit] Sleeping for 0.19 seconds...\n"
     ]
    },
    {
     "name": "stderr",
     "output_type": "stream",
     "text": [
      " 70%|███████   | 204/290 [06:19<01:59,  1.39s/it]"
     ]
    },
    {
     "name": "stdout",
     "output_type": "stream",
     "text": [
      "[Rate Limit] Sleeping for 0.32 seconds...\n"
     ]
    },
    {
     "name": "stderr",
     "output_type": "stream",
     "text": [
      " 71%|███████   | 205/290 [06:20<01:39,  1.17s/it]"
     ]
    },
    {
     "name": "stdout",
     "output_type": "stream",
     "text": [
      "[Rate Limit] Sleeping for 0.21 seconds...\n"
     ]
    },
    {
     "name": "stderr",
     "output_type": "stream",
     "text": [
      " 72%|███████▏  | 210/290 [06:22<00:49,  1.63it/s]"
     ]
    },
    {
     "name": "stdout",
     "output_type": "stream",
     "text": [
      "[Rate Limit] Sleeping for 0.60 seconds...\n"
     ]
    },
    {
     "name": "stderr",
     "output_type": "stream",
     "text": [
      " 73%|███████▎  | 211/290 [06:22<00:41,  1.89it/s]"
     ]
    },
    {
     "name": "stdout",
     "output_type": "stream",
     "text": [
      "[Rate Limit] Sleeping for 0.29 seconds...\n",
      "[Rate Limit] Sleeping for 0.22 seconds...\n"
     ]
    },
    {
     "name": "stderr",
     "output_type": "stream",
     "text": [
      " 74%|███████▍  | 214/290 [06:25<00:50,  1.50it/s]"
     ]
    },
    {
     "name": "stdout",
     "output_type": "stream",
     "text": [
      "[Rate Limit] Sleeping for 2.46 seconds...\n",
      "[Rate Limit] Sleeping for 2.46 seconds...\n",
      "[Rate Limit] Sleeping for 2.42 seconds...\n"
     ]
    },
    {
     "name": "stderr",
     "output_type": "stream",
     "text": [
      " 75%|███████▍  | 217/290 [06:25<00:31,  2.28it/s]"
     ]
    },
    {
     "name": "stdout",
     "output_type": "stream",
     "text": [
      "[Rate Limit] Sleeping for 1.83 seconds...\n"
     ]
    },
    {
     "name": "stderr",
     "output_type": "stream",
     "text": [
      " 75%|███████▌  | 218/290 [06:28<00:58,  1.24it/s]"
     ]
    },
    {
     "name": "stdout",
     "output_type": "stream",
     "text": [
      "[Rate Limit] Sleeping for 45.65 seconds...\n"
     ]
    },
    {
     "name": "stderr",
     "output_type": "stream",
     "text": [
      " 76%|███████▌  | 219/290 [06:29<01:06,  1.06it/s]"
     ]
    },
    {
     "name": "stdout",
     "output_type": "stream",
     "text": [
      "[Rate Limit] Sleeping for 44.23 seconds...\n"
     ]
    },
    {
     "name": "stderr",
     "output_type": "stream",
     "text": [
      " 76%|███████▌  | 220/290 [06:30<00:58,  1.19it/s]"
     ]
    },
    {
     "name": "stdout",
     "output_type": "stream",
     "text": [
      "[Rate Limit] Sleeping for 43.71 seconds...\n",
      "[Rate Limit] Sleeping for 43.71 seconds...\n",
      "[Rate Limit] Sleeping for 43.70 seconds...\n"
     ]
    },
    {
     "name": "stderr",
     "output_type": "stream",
     "text": [
      " 77%|███████▋  | 223/290 [06:52<04:41,  4.20s/it]"
     ]
    },
    {
     "name": "stdout",
     "output_type": "stream",
     "text": [
      "[Rate Limit] Sleeping for 21.18 seconds...\n"
     ]
    },
    {
     "name": "stderr",
     "output_type": "stream",
     "text": [
      " 77%|███████▋  | 224/290 [07:15<08:41,  7.90s/it]"
     ]
    },
    {
     "name": "stdout",
     "output_type": "stream",
     "text": [
      "[Rate Limit] Sleeping for 0.29 seconds...\n"
     ]
    },
    {
     "name": "stderr",
     "output_type": "stream",
     "text": [
      " 79%|███████▊  | 228/290 [07:16<03:22,  3.27s/it]"
     ]
    },
    {
     "name": "stdout",
     "output_type": "stream",
     "text": [
      "[Rate Limit] Sleeping for 0.00 seconds...\n",
      "[Rate Limit] Sleeping for 0.82 seconds...\n",
      "[Rate Limit] Sleeping for 0.81 seconds...\n",
      "[Rate Limit] Sleeping for 0.76 seconds...\n"
     ]
    },
    {
     "name": "stderr",
     "output_type": "stream",
     "text": [
      " 79%|███████▉  | 229/290 [07:17<02:58,  2.92s/it]"
     ]
    },
    {
     "name": "stdout",
     "output_type": "stream",
     "text": [
      "[Rate Limit] Sleeping for 1.83 seconds...\n"
     ]
    },
    {
     "name": "stderr",
     "output_type": "stream",
     "text": [
      " 79%|███████▉  | 230/290 [07:18<02:31,  2.52s/it]"
     ]
    },
    {
     "name": "stdout",
     "output_type": "stream",
     "text": [
      "[Rate Limit] Sleeping for 0.81 seconds...[Rate Limit] Sleeping for 0.81 seconds...\n",
      "\n"
     ]
    },
    {
     "name": "stderr",
     "output_type": "stream",
     "text": [
      " 80%|████████  | 232/290 [07:19<01:34,  1.63s/it]"
     ]
    },
    {
     "name": "stdout",
     "output_type": "stream",
     "text": [
      "[Rate Limit] Sleeping for 0.50 seconds...\n"
     ]
    },
    {
     "name": "stderr",
     "output_type": "stream",
     "text": [
      " 80%|████████  | 233/290 [07:19<01:19,  1.40s/it]"
     ]
    },
    {
     "name": "stdout",
     "output_type": "stream",
     "text": [
      "[Rate Limit] Sleeping for 0.09 seconds...\n"
     ]
    },
    {
     "name": "stderr",
     "output_type": "stream",
     "text": [
      " 81%|████████  | 234/290 [07:20<01:05,  1.18s/it]"
     ]
    },
    {
     "name": "stdout",
     "output_type": "stream",
     "text": [
      "[Rate Limit] Sleeping for 0.15 seconds...\n"
     ]
    },
    {
     "name": "stderr",
     "output_type": "stream",
     "text": [
      " 82%|████████▏ | 238/290 [07:22<00:35,  1.45it/s]"
     ]
    },
    {
     "name": "stdout",
     "output_type": "stream",
     "text": [
      "[Rate Limit] Sleeping for 0.09 seconds...\n",
      "[Rate Limit] Sleeping for 0.06 seconds...\n",
      "[Rate Limit] Sleeping for 0.04 seconds...\n",
      "[Rate Limit] Sleeping for 0.20 seconds...\n",
      "[Rate Limit] Sleeping for 0.19 seconds...\n"
     ]
    },
    {
     "name": "stderr",
     "output_type": "stream",
     "text": [
      " 83%|████████▎ | 240/290 [07:22<00:24,  2.01it/s]"
     ]
    },
    {
     "name": "stdout",
     "output_type": "stream",
     "text": [
      "[Rate Limit] Sleeping for 0.30 seconds...\n"
     ]
    },
    {
     "name": "stderr",
     "output_type": "stream",
     "text": [
      " 83%|████████▎ | 241/290 [07:24<00:40,  1.20it/s]"
     ]
    },
    {
     "name": "stdout",
     "output_type": "stream",
     "text": [
      "[Rate Limit] Sleeping for 0.48 seconds...\n",
      "[Rate Limit] Sleeping for 0.48 seconds...\n",
      "[Rate Limit] Sleeping for 0.48 seconds...\n"
     ]
    },
    {
     "name": "stderr",
     "output_type": "stream",
     "text": [
      " 84%|████████▍ | 244/290 [07:25<00:24,  1.86it/s]"
     ]
    },
    {
     "name": "stdout",
     "output_type": "stream",
     "text": [
      "[Rate Limit] Sleeping for 0.00 seconds...\n",
      "[Rate Limit] Sleeping for 0.57 seconds...\n"
     ]
    },
    {
     "name": "stderr",
     "output_type": "stream",
     "text": [
      " 85%|████████▍ | 246/290 [07:25<00:20,  2.15it/s]"
     ]
    },
    {
     "name": "stdout",
     "output_type": "stream",
     "text": [
      "[Rate Limit] Sleeping for 2.35 seconds...\n"
     ]
    },
    {
     "name": "stderr",
     "output_type": "stream",
     "text": [
      " 85%|████████▌ | 247/290 [07:26<00:22,  1.94it/s]"
     ]
    },
    {
     "name": "stdout",
     "output_type": "stream",
     "text": [
      "[Rate Limit] Sleeping for 1.60 seconds...\n"
     ]
    },
    {
     "name": "stderr",
     "output_type": "stream",
     "text": [
      " 86%|████████▌ | 248/290 [07:27<00:25,  1.66it/s]"
     ]
    },
    {
     "name": "stdout",
     "output_type": "stream",
     "text": [
      "[Rate Limit] Sleeping for 0.66 seconds...\n"
     ]
    },
    {
     "name": "stderr",
     "output_type": "stream",
     "text": [
      " 86%|████████▌ | 249/290 [07:27<00:23,  1.76it/s]"
     ]
    },
    {
     "name": "stdout",
     "output_type": "stream",
     "text": [
      "[Rate Limit] Sleeping for 0.20 seconds...\n"
     ]
    },
    {
     "name": "stderr",
     "output_type": "stream",
     "text": [
      " 86%|████████▌ | 250/290 [07:28<00:22,  1.80it/s]"
     ]
    },
    {
     "name": "stdout",
     "output_type": "stream",
     "text": [
      "[Rate Limit] Sleeping for 1.11 seconds...\n",
      "Error during request: Error code: 429 - {'error': {'message': 'Rate limit reached for gpt-4.1-nano in organization org-xNx4bgcMtYDCt9h8gAsxgBbj on tokens per min (TPM): Limit 200000, Used 200000, Requested 7905. Please try again in 2.371s. Visit https://platform.openai.com/account/rate-limits to learn more.', 'type': 'tokens', 'param': None, 'code': 'rate_limit_exceeded'}}\n"
     ]
    },
    {
     "name": "stderr",
     "output_type": "stream",
     "text": [
      " 87%|████████▋ | 251/290 [07:30<00:31,  1.23it/s]"
     ]
    },
    {
     "name": "stdout",
     "output_type": "stream",
     "text": [
      "[Rate Limit] Sleeping for 0.08 seconds...\n",
      "[Rate Limit] Sleeping for 0.01 seconds...\n"
     ]
    },
    {
     "name": "stderr",
     "output_type": "stream",
     "text": [
      " 87%|████████▋ | 253/290 [07:30<00:23,  1.57it/s]"
     ]
    },
    {
     "name": "stdout",
     "output_type": "stream",
     "text": [
      "[Rate Limit] Sleeping for 21.80 seconds...\n"
     ]
    },
    {
     "name": "stderr",
     "output_type": "stream",
     "text": [
      " 88%|████████▊ | 254/290 [07:32<00:31,  1.15it/s]"
     ]
    },
    {
     "name": "stdout",
     "output_type": "stream",
     "text": [
      "[Rate Limit] Sleeping for 20.17 seconds...\n",
      "Error during request: Error code: 429 - {'error': {'message': 'Rate limit reached for gpt-4.1-nano in organization org-xNx4bgcMtYDCt9h8gAsxgBbj on tokens per min (TPM): Limit 200000, Used 198256, Requested 7676. Please try again in 1.779s. Visit https://platform.openai.com/account/rate-limits to learn more.', 'type': 'tokens', 'param': None, 'code': 'rate_limit_exceeded'}}\n",
      "Error during request: Error code: 429 - {'error': {'message': 'Rate limit reached for gpt-4.1-nano in organization org-xNx4bgcMtYDCt9h8gAsxgBbj on tokens per min (TPM): Limit 200000, Used 193111, Requested 7671. Please try again in 234ms. Visit https://platform.openai.com/account/rate-limits to learn more.', 'type': 'tokens', 'param': None, 'code': 'rate_limit_exceeded'}}\n"
     ]
    },
    {
     "name": "stderr",
     "output_type": "stream",
     "text": [
      " 88%|████████▊ | 255/290 [07:38<01:11,  2.06s/it]"
     ]
    },
    {
     "name": "stdout",
     "output_type": "stream",
     "text": [
      "[Rate Limit] Sleeping for 14.53 seconds...\n"
     ]
    },
    {
     "name": "stderr",
     "output_type": "stream",
     "text": [
      " 88%|████████▊ | 256/290 [07:49<02:32,  4.48s/it]"
     ]
    },
    {
     "name": "stdout",
     "output_type": "stream",
     "text": [
      "[Rate Limit] Sleeping for 3.23 seconds...\n"
     ]
    },
    {
     "name": "stderr",
     "output_type": "stream",
     "text": [
      " 89%|████████▊ | 257/290 [07:54<02:34,  4.67s/it]"
     ]
    },
    {
     "name": "stdout",
     "output_type": "stream",
     "text": [
      "[Rate Limit] Sleeping for 21.40 seconds...\n"
     ]
    },
    {
     "name": "stderr",
     "output_type": "stream",
     "text": [
      " 89%|████████▉ | 258/290 [07:54<01:49,  3.42s/it]"
     ]
    },
    {
     "name": "stdout",
     "output_type": "stream",
     "text": [
      "[Rate Limit] Sleeping for 21.18 seconds...\n",
      "[Rate Limit] Sleeping for 21.13 seconds...\n"
     ]
    },
    {
     "name": "stderr",
     "output_type": "stream",
     "text": [
      " 90%|████████▉ | 260/290 [07:55<00:59,  1.99s/it]"
     ]
    },
    {
     "name": "stdout",
     "output_type": "stream",
     "text": [
      "[Rate Limit] Sleeping for 20.78 seconds...\n"
     ]
    },
    {
     "name": "stderr",
     "output_type": "stream",
     "text": [
      " 90%|█████████ | 261/290 [07:55<00:45,  1.56s/it]"
     ]
    },
    {
     "name": "stdout",
     "output_type": "stream",
     "text": [
      "[Rate Limit] Sleeping for 20.57 seconds...\n"
     ]
    },
    {
     "name": "stderr",
     "output_type": "stream",
     "text": [
      " 90%|█████████ | 262/290 [07:56<00:38,  1.38s/it]"
     ]
    },
    {
     "name": "stdout",
     "output_type": "stream",
     "text": [
      "[Rate Limit] Sleeping for 19.72 seconds...\n"
     ]
    },
    {
     "name": "stderr",
     "output_type": "stream",
     "text": [
      " 91%|█████████ | 264/290 [08:17<02:08,  4.94s/it]"
     ]
    },
    {
     "name": "stdout",
     "output_type": "stream",
     "text": [
      "[Rate Limit] Sleeping for 0.09 seconds...\n",
      "[Rate Limit] Sleeping for 0.93 seconds...\n",
      "[Rate Limit] Sleeping for 0.86 seconds...\n"
     ]
    },
    {
     "name": "stderr",
     "output_type": "stream",
     "text": [
      " 92%|█████████▏| 266/290 [08:18<01:07,  2.82s/it]"
     ]
    },
    {
     "name": "stdout",
     "output_type": "stream",
     "text": [
      "[Rate Limit] Sleeping for 0.65 seconds...\n"
     ]
    },
    {
     "name": "stderr",
     "output_type": "stream",
     "text": [
      " 92%|█████████▏| 267/290 [08:18<00:52,  2.30s/it]"
     ]
    },
    {
     "name": "stdout",
     "output_type": "stream",
     "text": [
      "[Rate Limit] Sleeping for 0.29 seconds...\n",
      "[Rate Limit] Sleeping for 0.29 seconds...\n"
     ]
    },
    {
     "name": "stderr",
     "output_type": "stream",
     "text": [
      " 93%|█████████▎| 269/290 [08:20<00:34,  1.64s/it]"
     ]
    },
    {
     "name": "stdout",
     "output_type": "stream",
     "text": [
      "[Rate Limit] Sleeping for 1.83 seconds...\n"
     ]
    },
    {
     "name": "stderr",
     "output_type": "stream",
     "text": [
      " 94%|█████████▍| 273/290 [08:21<00:12,  1.32it/s]"
     ]
    },
    {
     "name": "stdout",
     "output_type": "stream",
     "text": [
      "[Rate Limit] Sleeping for 1.06 seconds...\n",
      "[Rate Limit] Sleeping for 1.06 seconds...\n",
      "[Rate Limit] Sleeping for 0.97 seconds...\n",
      "[Rate Limit] Sleeping for 0.90 seconds...\n",
      "[Rate Limit] Sleeping for 0.84 seconds...\n"
     ]
    },
    {
     "name": "stderr",
     "output_type": "stream",
     "text": [
      " 96%|█████████▌| 277/290 [08:24<00:09,  1.35it/s]"
     ]
    },
    {
     "name": "stdout",
     "output_type": "stream",
     "text": [
      "[Rate Limit] Sleeping for 0.19 seconds...[Rate Limit] Sleeping for 0.19 seconds...\n",
      "\n",
      "[Rate Limit] Sleeping for 0.09 seconds...\n",
      "[Rate Limit] Sleeping for 0.07 seconds...\n"
     ]
    },
    {
     "name": "stderr",
     "output_type": "stream",
     "text": [
      " 96%|█████████▌| 279/290 [08:25<00:06,  1.68it/s]"
     ]
    },
    {
     "name": "stdout",
     "output_type": "stream",
     "text": [
      "[Rate Limit] Sleeping for 0.08 seconds...\n",
      "[Rate Limit] Sleeping for 0.06 seconds...\n"
     ]
    },
    {
     "name": "stderr",
     "output_type": "stream",
     "text": [
      " 97%|█████████▋| 281/290 [08:26<00:05,  1.59it/s]"
     ]
    },
    {
     "name": "stdout",
     "output_type": "stream",
     "text": [
      "[Rate Limit] Sleeping for 0.02 seconds...\n"
     ]
    },
    {
     "name": "stderr",
     "output_type": "stream",
     "text": [
      " 97%|█████████▋| 282/290 [08:26<00:04,  1.70it/s]"
     ]
    },
    {
     "name": "stdout",
     "output_type": "stream",
     "text": [
      "[Rate Limit] Sleeping for 0.55 seconds...\n"
     ]
    },
    {
     "name": "stderr",
     "output_type": "stream",
     "text": [
      " 98%|█████████▊| 283/290 [08:27<00:04,  1.71it/s]"
     ]
    },
    {
     "name": "stdout",
     "output_type": "stream",
     "text": [
      "[Rate Limit] Sleeping for 0.44 seconds...\n"
     ]
    },
    {
     "name": "stderr",
     "output_type": "stream",
     "text": [
      " 98%|█████████▊| 284/290 [08:29<00:04,  1.21it/s]"
     ]
    },
    {
     "name": "stdout",
     "output_type": "stream",
     "text": [
      "[Rate Limit] Sleeping for 0.83 seconds...\n",
      "Error during request: Error code: 429 - {'error': {'message': 'Rate limit reached for gpt-4.1-nano in organization org-xNx4bgcMtYDCt9h8gAsxgBbj on tokens per min (TPM): Limit 200000, Used 200000, Requested 7738. Please try again in 2.321s. Visit https://platform.openai.com/account/rate-limits to learn more.', 'type': 'tokens', 'param': None, 'code': 'rate_limit_exceeded'}}\n",
      "Error during request: Error code: 429 - {'error': {'message': 'Rate limit reached for gpt-4.1-nano in organization org-xNx4bgcMtYDCt9h8gAsxgBbj on tokens per min (TPM): Limit 200000, Used 197003, Requested 7720. Please try again in 1.416s. Visit https://platform.openai.com/account/rate-limits to learn more.', 'type': 'tokens', 'param': None, 'code': 'rate_limit_exceeded'}}\n",
      "Error during request: Error code: 429 - {'error': {'message': 'Rate limit reached for gpt-4.1-nano in organization org-xNx4bgcMtYDCt9h8gAsxgBbj on tokens per min (TPM): Limit 200000, Used 197190, Requested 7520. Please try again in 1.413s. Visit https://platform.openai.com/account/rate-limits to learn more.', 'type': 'tokens', 'param': None, 'code': 'rate_limit_exceeded'}}\n"
     ]
    },
    {
     "name": "stderr",
     "output_type": "stream",
     "text": [
      " 98%|█████████▊| 285/290 [08:31<00:06,  1.21s/it]"
     ]
    },
    {
     "name": "stdout",
     "output_type": "stream",
     "text": [
      "Error during request: Error code: 429 - {'error': {'message': 'Rate limit reached for gpt-4.1-nano in organization org-xNx4bgcMtYDCt9h8gAsxgBbj on tokens per min (TPM): Limit 200000, Used 193944, Requested 7176. Please try again in 336ms. Visit https://platform.openai.com/account/rate-limits to learn more.', 'type': 'tokens', 'param': None, 'code': 'rate_limit_exceeded'}}\n"
     ]
    },
    {
     "name": "stderr",
     "output_type": "stream",
     "text": [
      "100%|██████████| 290/290 [08:51<00:00,  1.83s/it]\n"
     ]
    }
   ],
   "source": [
    "cryptopanic_news_pd = cryptopanic_news.to_pandas()\n",
    "\n",
    "cryptopanic_news_with_labels = process_all_batches(cryptopanic_news_pd, max_workers=6)"
   ]
  },
  {
   "cell_type": "code",
   "execution_count": 13,
   "id": "59b1ec66",
   "metadata": {},
   "outputs": [
    {
     "name": "stdout",
     "output_type": "stream",
     "text": [
      "Number of errors: 1164\n",
      "Processing 1164 news items with 'Error' sentiment...\n"
     ]
    },
    {
     "name": "stderr",
     "output_type": "stream",
     "text": [
      "100%|██████████| 15/15 [00:08<00:00,  1.84it/s]\n"
     ]
    },
    {
     "name": "stdout",
     "output_type": "stream",
     "text": [
      "Processing 176 news items with 'Error' sentiment...\n"
     ]
    },
    {
     "name": "stderr",
     "output_type": "stream",
     "text": [
      "100%|██████████| 3/3 [00:03<00:00,  1.19s/it]\n"
     ]
    },
    {
     "name": "stdout",
     "output_type": "stream",
     "text": [
      "Processing 23 news items with 'Error' sentiment...\n"
     ]
    },
    {
     "name": "stderr",
     "output_type": "stream",
     "text": [
      "100%|██████████| 1/1 [00:00<00:00,  1.02it/s]"
     ]
    },
    {
     "name": "stdout",
     "output_type": "stream",
     "text": [
      "No more errors to process.\n"
     ]
    },
    {
     "name": "stderr",
     "output_type": "stream",
     "text": [
      "\n"
     ]
    }
   ],
   "source": [
    "# check which ones have sentiment as 'Error'\n",
    "error_sentiments = cryptopanic_news_with_labels[cryptopanic_news_with_labels['sentiment'] == 'Error']\n",
    "print(f\"Number of errors: {len(error_sentiments)}\")\n",
    "\n",
    "# Batch processing also the ones with 'Error' sentiment\n",
    "while True:\n",
    "    news_with_errors = cryptopanic_news_with_labels[cryptopanic_news_with_labels['sentiment'] == 'Error']\n",
    "    if news_with_errors.empty:\n",
    "        print(\"No more errors to process.\")\n",
    "        break\n",
    "\n",
    "    print(f\"Processing {len(news_with_errors)} news items with 'Error' sentiment...\")\n",
    "\n",
    "    new_batches = process_all_batches(news_with_errors, max_workers=6)\n",
    "    cryptopanic_news_with_labels.update(new_batches)"
   ]
  },
  {
   "cell_type": "code",
   "execution_count": 15,
   "id": "c4dfe423",
   "metadata": {},
   "outputs": [
    {
     "name": "stdout",
     "output_type": "stream",
     "text": [
      "Sentiment counts:\n",
      "sentiment\n",
      "Positive               12461\n",
      "Negative                4977\n",
      "Neutral                 2030\n",
      "Bullish                   16\n",
      "Bullish/Positive          10\n",
      "Bullish/Speculative        1\n",
      "Name: count, dtype: int64\n",
      "News with non-standard sentiments:\n",
      "                                                   title  \\\n",
      "919    Polygon Launches Burning Mechanism Similar to ...   \n",
      "922    Why Did Elon Musk Choose Dogecoin Over Bitcoin...   \n",
      "923    Number of SHIB holders surpass 800,000 adding ...   \n",
      "1547   Proposal on SEC website suggests XRP as a stra...   \n",
      "3615   Bitcoin transactions need 2 hours to be safe, ...   \n",
      "3622   Crypto Winter Is Rough. Here Are Five Essentia...   \n",
      "5127            AI predicts XRP price for Halloween 2023   \n",
      "5129   Bitcoin price plunges below $43K in minutes in...   \n",
      "7581   Dogecoin founder slams every token on the Bina...   \n",
      "9003   Bitcoin, Ether, SOL, Cardano, XRP, Shiba Inu B...   \n",
      "9133   Cardano-based DeFi ADALend Announces IDO, Hire...   \n",
      "9136   Algorand (ALGO) hits new all-time low amid reg...   \n",
      "9667   U.S. judge orders Tether to produce financial ...   \n",
      "10455  Class action law firm starts investigating Sol...   \n",
      "12789  Solana [SOL] network faces a blackout yet agai...   \n",
      "13073  Founder of Crypto Capital Venture: $ADA and $X...   \n",
      "13081  Shiba Inu and Luna on a tear; K-pop bets on di...   \n",
      "13089  Cathie Wood Says Bitcoin Consolidation Extreme...   \n",
      "13092  Polkadot (DOT) to Introduce Bridges to Connect...   \n",
      "14369  XPOP Announces First Entertainment NFT Marketp...   \n",
      "14374  XRP to Be Delisted by Yet Another Canadian Exc...   \n",
      "16658  Despite “Loser Coin” Tag, Ripple’s XRP Army St...   \n",
      "16924  Day TWO: Key Quotes And Ideas From The Bitcoin...   \n",
      "17113  Terra Classic Price Prediction - Is LUNC Dead,...   \n",
      "17119  Algorand’s total value staked soars 40% in 2 m...   \n",
      "17751   Crypto.com CEO on the Collapse of the FTX Empire   \n",
      "18526  8.9 Million DOGE Bought by Major BNB Whale: De...   \n",
      "\n",
      "                                             description            sentiment  \n",
      "919    Polygon brings a long-awaited fee-burning mech...              Bullish  \n",
      "922    DOGE whales, Tesla car promo campaign and enor...              Bullish  \n",
      "923    Following Shiba Inu’s (SHIB) unprecedented ach...              Bullish  \n",
      "1547   A proposal for XRP as a strategic financial as...              Bullish  \n",
      "3615   If someone asked you how many blocks (or minut...     Bullish/Positive  \n",
      "3622   It's been a brutal year for crypto investors. ...     Bullish/Positive  \n",
      "5127   One standout performer this past year has been...              Bullish  \n",
      "5129   An $8,000 daily loss leaves the market shaking...              Bullish  \n",
      "7581   The co-founder of meme cryptocurrency Dogecoin...              Bullish  \n",
      "9003   Bitcoin rebounded to almost $70,000 on Wednesd...     Bullish/Positive  \n",
      "9133   ADALend, a pioneering lending/borrowing ecosys...     Bullish/Positive  \n",
      "9136   Algorand (ALGO) finds itself in an unexpected ...     Bullish/Positive  \n",
      "9667   As the lawsuit accusing Tether (USDT) and cryp...              Bullish  \n",
      "10455  While the cryptocurrency market is still tryin...     Bullish/Positive  \n",
      "12789  The Solana network crashed again on 1 June nig...     Bullish/Positive  \n",
      "13073  Dan Gambardello, the founder of Crypto Capital...              Bullish  \n",
      "13081  Shiba Inu and Luna on a tear, also K-pop bets ...              Bullish  \n",
      "13089  ARK Invest’s Cathie Wood reportedly says that ...              Bullish  \n",
      "13092  The Polkadot (DOT) project sets to integrate b...              Bullish  \n",
      "14369  Korean blockchain tech company XPOP has made t...     Bullish/Positive  \n",
      "14374  Canadian exchanges are delisting XRP, leaving ...     Bullish/Positive  \n",
      "16658  XRP's recent price decline has sparked a heate...              Bullish  \n",
      "16924  The Bitcoin 2021 conference is over. The lesso...              Bullish  \n",
      "17113  The day the Terra Classic price (LUNC) hit its...  Bullish/Speculative  \n",
      "17119  With the majority of assets in the cryptocurre...              Bullish  \n",
      "17751  Kris Marszalek, the CEO of Crypto.com, recentl...              Bullish  \n",
      "18526  Large whale who holds his funds mostly in BNB ...     Bullish/Positive  \n"
     ]
    }
   ],
   "source": [
    "# check statistics of the sentiment labels\n",
    "sentiment_counts = cryptopanic_news_with_labels['sentiment'].value_counts()\n",
    "print(\"Sentiment counts:\")\n",
    "print(sentiment_counts)\n",
    "\n",
    "# print all the news with not 'Positive', 'Neutral', 'Negative'\n",
    "non_standard_sentiments = cryptopanic_news_with_labels[~cryptopanic_news_with_labels['sentiment'].isin(['Positive', 'Neutral', 'Negative'])]\n",
    "print(\"News with non-standard sentiments:\")\n",
    "print(non_standard_sentiments[['title', 'description', 'sentiment']])"
   ]
  },
  {
   "cell_type": "code",
   "execution_count": 20,
   "id": "1c5396bc",
   "metadata": {},
   "outputs": [],
   "source": [
    "# not sure how to handle these, so as there are not many, we will skip them\n",
    "cryptopanic_news_with_labels = cryptopanic_news_with_labels[\n",
    "    cryptopanic_news_with_labels['sentiment'].isin(['Positive', 'Neutral', 'Negative'])\n",
    "]\n",
    "\n",
    "# save the processed DataFrame to a new Parquet file\n",
    "output_file = f\"{CLEAN_DATA_FOLDER}/cryptopanic_news_with_labels.parquet\"\n",
    "\n",
    "cryptopanic_news_with_labels.to_parquet(output_file, index=False)"
   ]
  },
  {
   "cell_type": "code",
   "execution_count": 19,
   "id": "a980e744",
   "metadata": {},
   "outputs": [
    {
     "data": {
      "text/html": [
       "<div><style>\n",
       ".dataframe > thead > tr,\n",
       ".dataframe > tbody > tr {\n",
       "  text-align: right;\n",
       "  white-space: pre-wrap;\n",
       "}\n",
       "</style>\n",
       "<small>shape: (19_468, 8)</small><table border=\"1\" class=\"dataframe\"><thead><tr><th>cryptopanic_id</th><th>title</th><th>description</th><th>source_domain</th><th>published_at</th><th>cryptopanic_url</th><th>currencies</th><th>sentiment</th></tr><tr><td>i64</td><td>str</td><td>str</td><td>str</td><td>datetime[μs]</td><td>str</td><td>str</td><td>str</td></tr></thead><tbody><tr><td>176510</td><td>&quot;Crypto Investor Makes Over 3,6…</td><td>&quot;An investor has made an incred…</td><td>&quot;cryptodnes.bg&quot;</td><td>2024-12-20 10:00:54</td><td>&quot;https://cryptopanic.com/news/2…</td><td>&quot;SOL&quot;</td><td>&quot;Positive&quot;</td></tr><tr><td>176215</td><td>&quot;Cardano’s 10% jump sparks hope…</td><td>&quot;After a quiet December, 2025 s…</td><td>&quot;ambcrypto.com&quot;</td><td>2025-01-02 11:00:07</td><td>&quot;https://cryptopanic.com/news/2…</td><td>&quot;ADA&quot;</td><td>&quot;Negative&quot;</td></tr><tr><td>87112</td><td>&quot;Someone Paid 93 ETH In Fees Fo…</td><td>&quot;Data shows someone has today p…</td><td>&quot;bitcoinist.com&quot;</td><td>2022-11-18 16:00:04</td><td>&quot;https://cryptopanic.com/news/1…</td><td>&quot;ETH&quot;</td><td>&quot;Neutral&quot;</td></tr><tr><td>82678</td><td>&quot;‘Critical’ Polygon bug put $24…</td><td>&quot;Polygon was at risk of losing …</td><td>&quot;theblockcrypto.com&quot;</td><td>2021-12-29 19:01:22</td><td>&quot;https://cryptopanic.com/news/m…</td><td>&quot;MATIC&quot;</td><td>&quot;Positive&quot;</td></tr><tr><td>120931</td><td>&quot;Charles Hoskinson reveals ‘con…</td><td>&quot;The cryptocurrency market may …</td><td>&quot;finbold.com&quot;</td><td>2022-12-08 14:16:55</td><td>&quot;https://cryptopanic.com/news/1…</td><td>&quot;ADA,XCN&quot;</td><td>&quot;Neutral&quot;</td></tr><tr><td>&hellip;</td><td>&hellip;</td><td>&hellip;</td><td>&hellip;</td><td>&hellip;</td><td>&hellip;</td><td>&hellip;</td><td>&hellip;</td></tr><tr><td>79592</td><td>&quot;We Should All Expect Repercuss…</td><td>&quot;Year-to-date gains for Dogecoi…</td><td>&quot;newsbtc.com&quot;</td><td>2021-04-18 12:15:49</td><td>&quot;https://cryptopanic.com/news/d…</td><td>&quot;DOGE&quot;</td><td>&quot;Negative&quot;</td></tr><tr><td>77552</td><td>&quot;Bitcoin Dives to $37,000, Nasd…</td><td>&quot;The Powell rally did not last …</td><td>&quot;trustnodes.com&quot;</td><td>2022-05-05 15:14:48</td><td>&quot;https://cryptopanic.com/news/b…</td><td>&quot;BTC&quot;</td><td>&quot;Negative&quot;</td></tr><tr><td>83671</td><td>&quot;Shiba Inu Goes Live on Mexico’…</td><td>&quot;The second-biggest canine cryp…</td><td>&quot;u.today&quot;</td><td>2022-01-12 05:30:39</td><td>&quot;https://cryptopanic.com/news/s…</td><td>&quot;SHIB&quot;</td><td>&quot;Positive&quot;</td></tr><tr><td>86423</td><td>&quot;Fed Leaves Policy on Hold, End…</td><td>&quot;The U.S. central bank signaled…</td><td>&quot;coindesk.com&quot;</td><td>2023-06-14 18:04:07</td><td>&quot;https://cryptopanic.com/news/1…</td><td>&quot;BTC&quot;</td><td>&quot;Neutral&quot;</td></tr><tr><td>174881</td><td>&quot;OpenSea 2.0: NFT Giant’s Big D…</td><td>&quot;OpenSea is set to relaunch in …</td><td>&quot;coinpaprika.com&quot;</td><td>2024-11-06 09:01:12</td><td>&quot;https://cryptopanic.com/news/2…</td><td>&quot;BTC&quot;</td><td>&quot;Neutral&quot;</td></tr></tbody></table></div>"
      ],
      "text/plain": [
       "shape: (19_468, 8)\n",
       "┌────────────┬────────────┬────────────┬───────────┬───────────┬───────────┬───────────┬───────────┐\n",
       "│ cryptopani ┆ title      ┆ descriptio ┆ source_do ┆ published ┆ cryptopan ┆ currencie ┆ sentiment │\n",
       "│ c_id       ┆ ---        ┆ n          ┆ main      ┆ _at       ┆ ic_url    ┆ s         ┆ ---       │\n",
       "│ ---        ┆ str        ┆ ---        ┆ ---       ┆ ---       ┆ ---       ┆ ---       ┆ str       │\n",
       "│ i64        ┆            ┆ str        ┆ str       ┆ datetime[ ┆ str       ┆ str       ┆           │\n",
       "│            ┆            ┆            ┆           ┆ μs]       ┆           ┆           ┆           │\n",
       "╞════════════╪════════════╪════════════╪═══════════╪═══════════╪═══════════╪═══════════╪═══════════╡\n",
       "│ 176510     ┆ Crypto     ┆ An         ┆ cryptodne ┆ 2024-12-2 ┆ https://c ┆ SOL       ┆ Positive  │\n",
       "│            ┆ Investor   ┆ investor   ┆ s.bg      ┆ 0         ┆ ryptopani ┆           ┆           │\n",
       "│            ┆ Makes Over ┆ has made   ┆           ┆ 10:00:54  ┆ c.com/new ┆           ┆           │\n",
       "│            ┆ 3,6…       ┆ an incred… ┆           ┆           ┆ s/2…      ┆           ┆           │\n",
       "│ 176215     ┆ Cardano’s  ┆ After a    ┆ ambcrypto ┆ 2025-01-0 ┆ https://c ┆ ADA       ┆ Negative  │\n",
       "│            ┆ 10% jump   ┆ quiet      ┆ .com      ┆ 2         ┆ ryptopani ┆           ┆           │\n",
       "│            ┆ sparks     ┆ December,  ┆           ┆ 11:00:07  ┆ c.com/new ┆           ┆           │\n",
       "│            ┆ hope…      ┆ 2025 s…    ┆           ┆           ┆ s/2…      ┆           ┆           │\n",
       "│ 87112      ┆ Someone    ┆ Data shows ┆ bitcoinis ┆ 2022-11-1 ┆ https://c ┆ ETH       ┆ Neutral   │\n",
       "│            ┆ Paid 93    ┆ someone    ┆ t.com     ┆ 8         ┆ ryptopani ┆           ┆           │\n",
       "│            ┆ ETH In     ┆ has today  ┆           ┆ 16:00:04  ┆ c.com/new ┆           ┆           │\n",
       "│            ┆ Fees Fo…   ┆ p…         ┆           ┆           ┆ s/1…      ┆           ┆           │\n",
       "│ 82678      ┆ ‘Critical’ ┆ Polygon    ┆ theblockc ┆ 2021-12-2 ┆ https://c ┆ MATIC     ┆ Positive  │\n",
       "│            ┆ Polygon    ┆ was at     ┆ rypto.com ┆ 9         ┆ ryptopani ┆           ┆           │\n",
       "│            ┆ bug put    ┆ risk of    ┆           ┆ 19:01:22  ┆ c.com/new ┆           ┆           │\n",
       "│            ┆ $24…       ┆ losing …   ┆           ┆           ┆ s/m…      ┆           ┆           │\n",
       "│ 120931     ┆ Charles    ┆ The crypto ┆ finbold.c ┆ 2022-12-0 ┆ https://c ┆ ADA,XCN   ┆ Neutral   │\n",
       "│            ┆ Hoskinson  ┆ currency   ┆ om        ┆ 8         ┆ ryptopani ┆           ┆           │\n",
       "│            ┆ reveals    ┆ market may ┆           ┆ 14:16:55  ┆ c.com/new ┆           ┆           │\n",
       "│            ┆ ‘con…      ┆ …          ┆           ┆           ┆ s/1…      ┆           ┆           │\n",
       "│ …          ┆ …          ┆ …          ┆ …         ┆ …         ┆ …         ┆ …         ┆ …         │\n",
       "│ 79592      ┆ We Should  ┆ Year-to-da ┆ newsbtc.c ┆ 2021-04-1 ┆ https://c ┆ DOGE      ┆ Negative  │\n",
       "│            ┆ All Expect ┆ te gains   ┆ om        ┆ 8         ┆ ryptopani ┆           ┆           │\n",
       "│            ┆ Repercuss… ┆ for        ┆           ┆ 12:15:49  ┆ c.com/new ┆           ┆           │\n",
       "│            ┆            ┆ Dogecoi…   ┆           ┆           ┆ s/d…      ┆           ┆           │\n",
       "│ 77552      ┆ Bitcoin    ┆ The Powell ┆ trustnode ┆ 2022-05-0 ┆ https://c ┆ BTC       ┆ Negative  │\n",
       "│            ┆ Dives to   ┆ rally did  ┆ s.com     ┆ 5         ┆ ryptopani ┆           ┆           │\n",
       "│            ┆ $37,000,   ┆ not last … ┆           ┆ 15:14:48  ┆ c.com/new ┆           ┆           │\n",
       "│            ┆ Nasd…      ┆            ┆           ┆           ┆ s/b…      ┆           ┆           │\n",
       "│ 83671      ┆ Shiba Inu  ┆ The second ┆ u.today   ┆ 2022-01-1 ┆ https://c ┆ SHIB      ┆ Positive  │\n",
       "│            ┆ Goes Live  ┆ -biggest   ┆           ┆ 2         ┆ ryptopani ┆           ┆           │\n",
       "│            ┆ on         ┆ canine     ┆           ┆ 05:30:39  ┆ c.com/new ┆           ┆           │\n",
       "│            ┆ Mexico’…   ┆ cryp…      ┆           ┆           ┆ s/s…      ┆           ┆           │\n",
       "│ 86423      ┆ Fed Leaves ┆ The U.S.   ┆ coindesk. ┆ 2023-06-1 ┆ https://c ┆ BTC       ┆ Neutral   │\n",
       "│            ┆ Policy on  ┆ central    ┆ com       ┆ 4         ┆ ryptopani ┆           ┆           │\n",
       "│            ┆ Hold, End… ┆ bank       ┆           ┆ 18:04:07  ┆ c.com/new ┆           ┆           │\n",
       "│            ┆            ┆ signaled…  ┆           ┆           ┆ s/1…      ┆           ┆           │\n",
       "│ 174881     ┆ OpenSea    ┆ OpenSea is ┆ coinpapri ┆ 2024-11-0 ┆ https://c ┆ BTC       ┆ Neutral   │\n",
       "│            ┆ 2.0: NFT   ┆ set to     ┆ ka.com    ┆ 6         ┆ ryptopani ┆           ┆           │\n",
       "│            ┆ Giant’s    ┆ relaunch   ┆           ┆ 09:01:12  ┆ c.com/new ┆           ┆           │\n",
       "│            ┆ Big D…     ┆ in …       ┆           ┆           ┆ s/2…      ┆           ┆           │\n",
       "└────────────┴────────────┴────────────┴───────────┴───────────┴───────────┴───────────┴───────────┘"
      ]
     },
     "execution_count": 19,
     "metadata": {},
     "output_type": "execute_result"
    }
   ],
   "source": [
    "# read test\n",
    "cryptopanic_news_with_labels_test = pl.read_parquet(output_file)\n",
    "cryptopanic_news_with_labels_test"
   ]
  }
 ],
 "metadata": {
  "kernelspec": {
   "display_name": "Python 3",
   "language": "python",
   "name": "python3"
  },
  "language_info": {
   "codemirror_mode": {
    "name": "ipython",
    "version": 3
   },
   "file_extension": ".py",
   "mimetype": "text/x-python",
   "name": "python",
   "nbconvert_exporter": "python",
   "pygments_lexer": "ipython3",
   "version": "3.12.11"
  }
 },
 "nbformat": 4,
 "nbformat_minor": 5
}
